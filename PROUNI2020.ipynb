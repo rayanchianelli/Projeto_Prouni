{
 "cells": [
  {
   "cell_type": "code",
   "execution_count": 214,
   "metadata": {},
   "outputs": [],
   "source": [
    "import pandas as pd"
   ]
  },
  {
   "cell_type": "code",
   "execution_count": 215,
   "metadata": {},
   "outputs": [
    {
     "data": {
      "text/html": [
       "<div>\n",
       "<style scoped>\n",
       "    .dataframe tbody tr th:only-of-type {\n",
       "        vertical-align: middle;\n",
       "    }\n",
       "\n",
       "    .dataframe tbody tr th {\n",
       "        vertical-align: top;\n",
       "    }\n",
       "\n",
       "    .dataframe thead th {\n",
       "        text-align: right;\n",
       "    }\n",
       "</style>\n",
       "<table border=\"1\" class=\"dataframe\">\n",
       "  <thead>\n",
       "    <tr style=\"text-align: right;\">\n",
       "      <th></th>\n",
       "      <th>ANO_CONCESSAO_BOLSA</th>\n",
       "      <th>CODIGO_EMEC_IES_BOLSA</th>\n",
       "      <th>NOME_IES_BOLSA</th>\n",
       "      <th>MUNICIPIO</th>\n",
       "      <th>CAMPUS</th>\n",
       "      <th>TIPO_BOLSA</th>\n",
       "      <th>MODALIDADE_ENSINO_BOLSA</th>\n",
       "      <th>NOME_CURSO_BOLSA</th>\n",
       "      <th>NOME_TURNO_CURSO_BOLSA</th>\n",
       "      <th>CPF_BENEFICIARIO</th>\n",
       "      <th>SEXO_BENEFICIARIO</th>\n",
       "      <th>RACA_BENEFICIARIO</th>\n",
       "      <th>DATA_NASCIMENTO</th>\n",
       "      <th>BENEFICIARIO_DEFICIENTE_FISICO</th>\n",
       "      <th>REGIAO_BENEFICIARIO</th>\n",
       "      <th>UF_BENEFICIARIO</th>\n",
       "      <th>MUNICIPIO_BENEFICIARIO</th>\n",
       "    </tr>\n",
       "  </thead>\n",
       "  <tbody>\n",
       "    <tr>\n",
       "      <th>0</th>\n",
       "      <td>2020</td>\n",
       "      <td>322</td>\n",
       "      <td>UNIVERSIDADE PAULISTA</td>\n",
       "      <td>IPATINGA</td>\n",
       "      <td>IPATINGA</td>\n",
       "      <td>INTEGRAL</td>\n",
       "      <td>EAD</td>\n",
       "      <td>PEDAGOGIA</td>\n",
       "      <td>CURSO A DISTÂNCIA</td>\n",
       "      <td>991.XXX.XXX-91</td>\n",
       "      <td>F</td>\n",
       "      <td>Parda</td>\n",
       "      <td>11/08/1973</td>\n",
       "      <td>N</td>\n",
       "      <td>SUDESTE</td>\n",
       "      <td>MG</td>\n",
       "      <td>GOVERNADOR VALADARES</td>\n",
       "    </tr>\n",
       "    <tr>\n",
       "      <th>1</th>\n",
       "      <td>2020</td>\n",
       "      <td>163</td>\n",
       "      <td>UNIVERSIDADE ESTÁCIO DE SÁ</td>\n",
       "      <td>FORTALEZA</td>\n",
       "      <td>EAD VIA CORPVS - CE</td>\n",
       "      <td>INTEGRAL</td>\n",
       "      <td>EAD</td>\n",
       "      <td>MARKETING</td>\n",
       "      <td>CURSO A DISTÂNCIA</td>\n",
       "      <td>067.XXX.XXX-01</td>\n",
       "      <td>M</td>\n",
       "      <td>Parda</td>\n",
       "      <td>13/05/1987</td>\n",
       "      <td>N</td>\n",
       "      <td>NORDESTE</td>\n",
       "      <td>CE</td>\n",
       "      <td>FORTALEZA</td>\n",
       "    </tr>\n",
       "    <tr>\n",
       "      <th>2</th>\n",
       "      <td>2020</td>\n",
       "      <td>17670</td>\n",
       "      <td>FACULDADE DE QUIXERAMOBIM</td>\n",
       "      <td>QUIXERAMOBIM</td>\n",
       "      <td>FACULDADE DE QUIXERAMOBIM - UNIQ</td>\n",
       "      <td>INTEGRAL</td>\n",
       "      <td>PRESENCIAL</td>\n",
       "      <td>FARMÁCIA</td>\n",
       "      <td>NOTURNO</td>\n",
       "      <td>623.XXX.XXX-27</td>\n",
       "      <td>M</td>\n",
       "      <td>Parda</td>\n",
       "      <td>23/07/2001</td>\n",
       "      <td>N</td>\n",
       "      <td>NORDESTE</td>\n",
       "      <td>CE</td>\n",
       "      <td>MOMBACA</td>\n",
       "    </tr>\n",
       "    <tr>\n",
       "      <th>3</th>\n",
       "      <td>2020</td>\n",
       "      <td>203</td>\n",
       "      <td>UNIVERSIDADE SÃO JUDAS TADEU</td>\n",
       "      <td>SAO PAULO</td>\n",
       "      <td>PAULISTA</td>\n",
       "      <td>PARCIAL</td>\n",
       "      <td>PRESENCIAL</td>\n",
       "      <td>DIREITO</td>\n",
       "      <td>MATUTINO</td>\n",
       "      <td>089.XXX.XXX-40</td>\n",
       "      <td>F</td>\n",
       "      <td>Branca</td>\n",
       "      <td>04/04/2003</td>\n",
       "      <td>N</td>\n",
       "      <td>NORDESTE</td>\n",
       "      <td>BA</td>\n",
       "      <td>IBITITA</td>\n",
       "    </tr>\n",
       "    <tr>\n",
       "      <th>4</th>\n",
       "      <td>2020</td>\n",
       "      <td>203</td>\n",
       "      <td>UNIVERSIDADE SÃO JUDAS TADEU</td>\n",
       "      <td>SAO PAULO</td>\n",
       "      <td>PAULISTA</td>\n",
       "      <td>INTEGRAL</td>\n",
       "      <td>PRESENCIAL</td>\n",
       "      <td>DIREITO</td>\n",
       "      <td>MATUTINO</td>\n",
       "      <td>173.XXX.XXX-09</td>\n",
       "      <td>F</td>\n",
       "      <td>Branca</td>\n",
       "      <td>07/12/1977</td>\n",
       "      <td>N</td>\n",
       "      <td>SUDESTE</td>\n",
       "      <td>SP</td>\n",
       "      <td>SAO PAULO</td>\n",
       "    </tr>\n",
       "  </tbody>\n",
       "</table>\n",
       "</div>"
      ],
      "text/plain": [
       "   ANO_CONCESSAO_BOLSA  CODIGO_EMEC_IES_BOLSA                NOME_IES_BOLSA  \\\n",
       "0                 2020                    322         UNIVERSIDADE PAULISTA   \n",
       "1                 2020                    163    UNIVERSIDADE ESTÁCIO DE SÁ   \n",
       "2                 2020                  17670     FACULDADE DE QUIXERAMOBIM   \n",
       "3                 2020                    203  UNIVERSIDADE SÃO JUDAS TADEU   \n",
       "4                 2020                    203  UNIVERSIDADE SÃO JUDAS TADEU   \n",
       "\n",
       "      MUNICIPIO                            CAMPUS TIPO_BOLSA  \\\n",
       "0      IPATINGA                          IPATINGA   INTEGRAL   \n",
       "1     FORTALEZA               EAD VIA CORPVS - CE   INTEGRAL   \n",
       "2  QUIXERAMOBIM  FACULDADE DE QUIXERAMOBIM - UNIQ   INTEGRAL   \n",
       "3     SAO PAULO                          PAULISTA    PARCIAL   \n",
       "4     SAO PAULO                          PAULISTA   INTEGRAL   \n",
       "\n",
       "  MODALIDADE_ENSINO_BOLSA NOME_CURSO_BOLSA NOME_TURNO_CURSO_BOLSA  \\\n",
       "0                     EAD        PEDAGOGIA      CURSO A DISTÂNCIA   \n",
       "1                     EAD        MARKETING      CURSO A DISTÂNCIA   \n",
       "2              PRESENCIAL         FARMÁCIA                NOTURNO   \n",
       "3              PRESENCIAL          DIREITO               MATUTINO   \n",
       "4              PRESENCIAL          DIREITO               MATUTINO   \n",
       "\n",
       "  CPF_BENEFICIARIO SEXO_BENEFICIARIO RACA_BENEFICIARIO DATA_NASCIMENTO  \\\n",
       "0   991.XXX.XXX-91                 F             Parda      11/08/1973   \n",
       "1   067.XXX.XXX-01                 M             Parda      13/05/1987   \n",
       "2   623.XXX.XXX-27                 M             Parda      23/07/2001   \n",
       "3   089.XXX.XXX-40                 F            Branca      04/04/2003   \n",
       "4   173.XXX.XXX-09                 F            Branca      07/12/1977   \n",
       "\n",
       "  BENEFICIARIO_DEFICIENTE_FISICO REGIAO_BENEFICIARIO UF_BENEFICIARIO  \\\n",
       "0                              N             SUDESTE              MG   \n",
       "1                              N            NORDESTE              CE   \n",
       "2                              N            NORDESTE              CE   \n",
       "3                              N            NORDESTE              BA   \n",
       "4                              N             SUDESTE              SP   \n",
       "\n",
       "  MUNICIPIO_BENEFICIARIO  \n",
       "0   GOVERNADOR VALADARES  \n",
       "1              FORTALEZA  \n",
       "2                MOMBACA  \n",
       "3                IBITITA  \n",
       "4              SAO PAULO  "
      ]
     },
     "execution_count": 215,
     "metadata": {},
     "output_type": "execute_result"
    }
   ],
   "source": [
    "prouni = pd.read_csv('Prouni2020.csv',encoding='latin1', sep=';')\n",
    "prouni.head()"
   ]
  },
  {
   "cell_type": "code",
   "execution_count": 216,
   "metadata": {},
   "outputs": [
    {
     "data": {
      "text/plain": [
       "(166830, 17)"
      ]
     },
     "execution_count": 216,
     "metadata": {},
     "output_type": "execute_result"
    }
   ],
   "source": [
    "prouni.shape"
   ]
  },
  {
   "cell_type": "code",
   "execution_count": 217,
   "metadata": {},
   "outputs": [
    {
     "name": "stdout",
     "output_type": "stream",
     "text": [
      "<class 'pandas.core.frame.DataFrame'>\n",
      "RangeIndex: 166830 entries, 0 to 166829\n",
      "Data columns (total 17 columns):\n",
      " #   Column                          Non-Null Count   Dtype \n",
      "---  ------                          --------------   ----- \n",
      " 0   ANO_CONCESSAO_BOLSA             166830 non-null  int64 \n",
      " 1   CODIGO_EMEC_IES_BOLSA           166830 non-null  int64 \n",
      " 2   NOME_IES_BOLSA                  166830 non-null  object\n",
      " 3   MUNICIPIO                       166830 non-null  object\n",
      " 4   CAMPUS                          166830 non-null  object\n",
      " 5   TIPO_BOLSA                      166830 non-null  object\n",
      " 6   MODALIDADE_ENSINO_BOLSA         166830 non-null  object\n",
      " 7   NOME_CURSO_BOLSA                166792 non-null  object\n",
      " 8   NOME_TURNO_CURSO_BOLSA          166830 non-null  object\n",
      " 9   CPF_BENEFICIARIO                166830 non-null  object\n",
      " 10  SEXO_BENEFICIARIO               166830 non-null  object\n",
      " 11  RACA_BENEFICIARIO               166830 non-null  object\n",
      " 12  DATA_NASCIMENTO                 166830 non-null  object\n",
      " 13  BENEFICIARIO_DEFICIENTE_FISICO  166830 non-null  object\n",
      " 14  REGIAO_BENEFICIARIO             166830 non-null  object\n",
      " 15  UF_BENEFICIARIO                 166830 non-null  object\n",
      " 16  MUNICIPIO_BENEFICIARIO          166830 non-null  object\n",
      "dtypes: int64(2), object(15)\n",
      "memory usage: 21.6+ MB\n"
     ]
    }
   ],
   "source": [
    "prouni.info()"
   ]
  },
  {
   "cell_type": "code",
   "execution_count": 218,
   "metadata": {},
   "outputs": [],
   "source": [
    "prouni = prouni.drop(['CODIGO_EMEC_IES_BOLSA', 'CPF_BENEFICIARIO'], axis=1)"
   ]
  },
  {
   "cell_type": "code",
   "execution_count": 219,
   "metadata": {},
   "outputs": [
    {
     "data": {
      "text/html": [
       "<div>\n",
       "<style scoped>\n",
       "    .dataframe tbody tr th:only-of-type {\n",
       "        vertical-align: middle;\n",
       "    }\n",
       "\n",
       "    .dataframe tbody tr th {\n",
       "        vertical-align: top;\n",
       "    }\n",
       "\n",
       "    .dataframe thead th {\n",
       "        text-align: right;\n",
       "    }\n",
       "</style>\n",
       "<table border=\"1\" class=\"dataframe\">\n",
       "  <thead>\n",
       "    <tr style=\"text-align: right;\">\n",
       "      <th></th>\n",
       "      <th>ANO_CONCESSAO_BOLSA</th>\n",
       "      <th>NOME_IES_BOLSA</th>\n",
       "      <th>MUNICIPIO</th>\n",
       "      <th>CAMPUS</th>\n",
       "      <th>TIPO_BOLSA</th>\n",
       "      <th>MODALIDADE_ENSINO_BOLSA</th>\n",
       "      <th>NOME_CURSO_BOLSA</th>\n",
       "      <th>NOME_TURNO_CURSO_BOLSA</th>\n",
       "      <th>SEXO_BENEFICIARIO</th>\n",
       "      <th>RACA_BENEFICIARIO</th>\n",
       "      <th>DATA_NASCIMENTO</th>\n",
       "      <th>BENEFICIARIO_DEFICIENTE_FISICO</th>\n",
       "      <th>REGIAO_BENEFICIARIO</th>\n",
       "      <th>UF_BENEFICIARIO</th>\n",
       "      <th>MUNICIPIO_BENEFICIARIO</th>\n",
       "    </tr>\n",
       "  </thead>\n",
       "  <tbody>\n",
       "    <tr>\n",
       "      <th>0</th>\n",
       "      <td>2020</td>\n",
       "      <td>UNIVERSIDADE PAULISTA</td>\n",
       "      <td>IPATINGA</td>\n",
       "      <td>IPATINGA</td>\n",
       "      <td>INTEGRAL</td>\n",
       "      <td>EAD</td>\n",
       "      <td>PEDAGOGIA</td>\n",
       "      <td>CURSO A DISTÂNCIA</td>\n",
       "      <td>F</td>\n",
       "      <td>Parda</td>\n",
       "      <td>11/08/1973</td>\n",
       "      <td>N</td>\n",
       "      <td>SUDESTE</td>\n",
       "      <td>MG</td>\n",
       "      <td>GOVERNADOR VALADARES</td>\n",
       "    </tr>\n",
       "    <tr>\n",
       "      <th>1</th>\n",
       "      <td>2020</td>\n",
       "      <td>UNIVERSIDADE ESTÁCIO DE SÁ</td>\n",
       "      <td>FORTALEZA</td>\n",
       "      <td>EAD VIA CORPVS - CE</td>\n",
       "      <td>INTEGRAL</td>\n",
       "      <td>EAD</td>\n",
       "      <td>MARKETING</td>\n",
       "      <td>CURSO A DISTÂNCIA</td>\n",
       "      <td>M</td>\n",
       "      <td>Parda</td>\n",
       "      <td>13/05/1987</td>\n",
       "      <td>N</td>\n",
       "      <td>NORDESTE</td>\n",
       "      <td>CE</td>\n",
       "      <td>FORTALEZA</td>\n",
       "    </tr>\n",
       "    <tr>\n",
       "      <th>2</th>\n",
       "      <td>2020</td>\n",
       "      <td>FACULDADE DE QUIXERAMOBIM</td>\n",
       "      <td>QUIXERAMOBIM</td>\n",
       "      <td>FACULDADE DE QUIXERAMOBIM - UNIQ</td>\n",
       "      <td>INTEGRAL</td>\n",
       "      <td>PRESENCIAL</td>\n",
       "      <td>FARMÁCIA</td>\n",
       "      <td>NOTURNO</td>\n",
       "      <td>M</td>\n",
       "      <td>Parda</td>\n",
       "      <td>23/07/2001</td>\n",
       "      <td>N</td>\n",
       "      <td>NORDESTE</td>\n",
       "      <td>CE</td>\n",
       "      <td>MOMBACA</td>\n",
       "    </tr>\n",
       "    <tr>\n",
       "      <th>3</th>\n",
       "      <td>2020</td>\n",
       "      <td>UNIVERSIDADE SÃO JUDAS TADEU</td>\n",
       "      <td>SAO PAULO</td>\n",
       "      <td>PAULISTA</td>\n",
       "      <td>PARCIAL</td>\n",
       "      <td>PRESENCIAL</td>\n",
       "      <td>DIREITO</td>\n",
       "      <td>MATUTINO</td>\n",
       "      <td>F</td>\n",
       "      <td>Branca</td>\n",
       "      <td>04/04/2003</td>\n",
       "      <td>N</td>\n",
       "      <td>NORDESTE</td>\n",
       "      <td>BA</td>\n",
       "      <td>IBITITA</td>\n",
       "    </tr>\n",
       "    <tr>\n",
       "      <th>4</th>\n",
       "      <td>2020</td>\n",
       "      <td>UNIVERSIDADE SÃO JUDAS TADEU</td>\n",
       "      <td>SAO PAULO</td>\n",
       "      <td>PAULISTA</td>\n",
       "      <td>INTEGRAL</td>\n",
       "      <td>PRESENCIAL</td>\n",
       "      <td>DIREITO</td>\n",
       "      <td>MATUTINO</td>\n",
       "      <td>F</td>\n",
       "      <td>Branca</td>\n",
       "      <td>07/12/1977</td>\n",
       "      <td>N</td>\n",
       "      <td>SUDESTE</td>\n",
       "      <td>SP</td>\n",
       "      <td>SAO PAULO</td>\n",
       "    </tr>\n",
       "  </tbody>\n",
       "</table>\n",
       "</div>"
      ],
      "text/plain": [
       "   ANO_CONCESSAO_BOLSA                NOME_IES_BOLSA     MUNICIPIO  \\\n",
       "0                 2020         UNIVERSIDADE PAULISTA      IPATINGA   \n",
       "1                 2020    UNIVERSIDADE ESTÁCIO DE SÁ     FORTALEZA   \n",
       "2                 2020     FACULDADE DE QUIXERAMOBIM  QUIXERAMOBIM   \n",
       "3                 2020  UNIVERSIDADE SÃO JUDAS TADEU     SAO PAULO   \n",
       "4                 2020  UNIVERSIDADE SÃO JUDAS TADEU     SAO PAULO   \n",
       "\n",
       "                             CAMPUS TIPO_BOLSA MODALIDADE_ENSINO_BOLSA  \\\n",
       "0                          IPATINGA   INTEGRAL                     EAD   \n",
       "1               EAD VIA CORPVS - CE   INTEGRAL                     EAD   \n",
       "2  FACULDADE DE QUIXERAMOBIM - UNIQ   INTEGRAL              PRESENCIAL   \n",
       "3                          PAULISTA    PARCIAL              PRESENCIAL   \n",
       "4                          PAULISTA   INTEGRAL              PRESENCIAL   \n",
       "\n",
       "  NOME_CURSO_BOLSA NOME_TURNO_CURSO_BOLSA SEXO_BENEFICIARIO RACA_BENEFICIARIO  \\\n",
       "0        PEDAGOGIA      CURSO A DISTÂNCIA                 F             Parda   \n",
       "1        MARKETING      CURSO A DISTÂNCIA                 M             Parda   \n",
       "2         FARMÁCIA                NOTURNO                 M             Parda   \n",
       "3          DIREITO               MATUTINO                 F            Branca   \n",
       "4          DIREITO               MATUTINO                 F            Branca   \n",
       "\n",
       "  DATA_NASCIMENTO BENEFICIARIO_DEFICIENTE_FISICO REGIAO_BENEFICIARIO  \\\n",
       "0      11/08/1973                              N             SUDESTE   \n",
       "1      13/05/1987                              N            NORDESTE   \n",
       "2      23/07/2001                              N            NORDESTE   \n",
       "3      04/04/2003                              N            NORDESTE   \n",
       "4      07/12/1977                              N             SUDESTE   \n",
       "\n",
       "  UF_BENEFICIARIO MUNICIPIO_BENEFICIARIO  \n",
       "0              MG   GOVERNADOR VALADARES  \n",
       "1              CE              FORTALEZA  \n",
       "2              CE                MOMBACA  \n",
       "3              BA                IBITITA  \n",
       "4              SP              SAO PAULO  "
      ]
     },
     "execution_count": 219,
     "metadata": {},
     "output_type": "execute_result"
    }
   ],
   "source": [
    "prouni.head()"
   ]
  },
  {
   "cell_type": "code",
   "execution_count": 220,
   "metadata": {},
   "outputs": [
    {
     "data": {
      "text/plain": [
       "Index(['ANO_CONCESSAO_BOLSA', 'NOME_IES_BOLSA', 'MUNICIPIO', 'CAMPUS',\n",
       "       'TIPO_BOLSA', 'MODALIDADE_ENSINO_BOLSA', 'NOME_CURSO_BOLSA',\n",
       "       'NOME_TURNO_CURSO_BOLSA', 'SEXO_BENEFICIARIO', 'RACA_BENEFICIARIO',\n",
       "       'DATA_NASCIMENTO', 'BENEFICIARIO_DEFICIENTE_FISICO',\n",
       "       'REGIAO_BENEFICIARIO', 'UF_BENEFICIARIO', 'MUNICIPIO_BENEFICIARIO'],\n",
       "      dtype='object')"
      ]
     },
     "execution_count": 220,
     "metadata": {},
     "output_type": "execute_result"
    }
   ],
   "source": [
    "prouni.columns"
   ]
  },
  {
   "cell_type": "code",
   "execution_count": 221,
   "metadata": {},
   "outputs": [],
   "source": [
    "prouni = prouni.rename(columns={'ANO_CONCESSAO_BOLSA':'ANO', 'NOME_IES_BOLSA':'INSTITUIÇÃO','TIPO_BOLSA':'TIPO', 'MODALIDADE_ENSINO_BOLSA':'MODALIDADE', 'NOME_CURSO_BOLSA':'CURSO',\n",
    "'NOME_TURNO_CURSO_BOLSA':'TURNO', 'SEXO_BENEFICIARIO':'GÊNERO', 'RACA_BENEFICIARIO':'ETNIA','DATA_NASCIMENTO':'NASCIMENTO', 'BENEFICIARIO_DEFICIENTE_FISICO':'PCD',\n",
    "'REGIAO_BENEFICIARIO':'REGIÃO', 'UF_BENEFICIARIO':'UF'})"
   ]
  },
  {
   "cell_type": "code",
   "execution_count": 222,
   "metadata": {},
   "outputs": [
    {
     "data": {
      "text/html": [
       "<div>\n",
       "<style scoped>\n",
       "    .dataframe tbody tr th:only-of-type {\n",
       "        vertical-align: middle;\n",
       "    }\n",
       "\n",
       "    .dataframe tbody tr th {\n",
       "        vertical-align: top;\n",
       "    }\n",
       "\n",
       "    .dataframe thead th {\n",
       "        text-align: right;\n",
       "    }\n",
       "</style>\n",
       "<table border=\"1\" class=\"dataframe\">\n",
       "  <thead>\n",
       "    <tr style=\"text-align: right;\">\n",
       "      <th></th>\n",
       "      <th>ANO</th>\n",
       "      <th>INSTITUIÇÃO</th>\n",
       "      <th>MUNICIPIO</th>\n",
       "      <th>CAMPUS</th>\n",
       "      <th>TIPO</th>\n",
       "      <th>MODALIDADE</th>\n",
       "      <th>CURSO</th>\n",
       "      <th>TURNO</th>\n",
       "      <th>GÊNERO</th>\n",
       "      <th>ETNIA</th>\n",
       "      <th>NASCIMENTO</th>\n",
       "      <th>PCD</th>\n",
       "      <th>REGIÃO</th>\n",
       "      <th>UF</th>\n",
       "      <th>MUNICIPIO_BENEFICIARIO</th>\n",
       "    </tr>\n",
       "  </thead>\n",
       "  <tbody>\n",
       "    <tr>\n",
       "      <th>0</th>\n",
       "      <td>2020</td>\n",
       "      <td>UNIVERSIDADE PAULISTA</td>\n",
       "      <td>IPATINGA</td>\n",
       "      <td>IPATINGA</td>\n",
       "      <td>INTEGRAL</td>\n",
       "      <td>EAD</td>\n",
       "      <td>PEDAGOGIA</td>\n",
       "      <td>CURSO A DISTÂNCIA</td>\n",
       "      <td>F</td>\n",
       "      <td>Parda</td>\n",
       "      <td>11/08/1973</td>\n",
       "      <td>N</td>\n",
       "      <td>SUDESTE</td>\n",
       "      <td>MG</td>\n",
       "      <td>GOVERNADOR VALADARES</td>\n",
       "    </tr>\n",
       "    <tr>\n",
       "      <th>1</th>\n",
       "      <td>2020</td>\n",
       "      <td>UNIVERSIDADE ESTÁCIO DE SÁ</td>\n",
       "      <td>FORTALEZA</td>\n",
       "      <td>EAD VIA CORPVS - CE</td>\n",
       "      <td>INTEGRAL</td>\n",
       "      <td>EAD</td>\n",
       "      <td>MARKETING</td>\n",
       "      <td>CURSO A DISTÂNCIA</td>\n",
       "      <td>M</td>\n",
       "      <td>Parda</td>\n",
       "      <td>13/05/1987</td>\n",
       "      <td>N</td>\n",
       "      <td>NORDESTE</td>\n",
       "      <td>CE</td>\n",
       "      <td>FORTALEZA</td>\n",
       "    </tr>\n",
       "    <tr>\n",
       "      <th>2</th>\n",
       "      <td>2020</td>\n",
       "      <td>FACULDADE DE QUIXERAMOBIM</td>\n",
       "      <td>QUIXERAMOBIM</td>\n",
       "      <td>FACULDADE DE QUIXERAMOBIM - UNIQ</td>\n",
       "      <td>INTEGRAL</td>\n",
       "      <td>PRESENCIAL</td>\n",
       "      <td>FARMÁCIA</td>\n",
       "      <td>NOTURNO</td>\n",
       "      <td>M</td>\n",
       "      <td>Parda</td>\n",
       "      <td>23/07/2001</td>\n",
       "      <td>N</td>\n",
       "      <td>NORDESTE</td>\n",
       "      <td>CE</td>\n",
       "      <td>MOMBACA</td>\n",
       "    </tr>\n",
       "    <tr>\n",
       "      <th>3</th>\n",
       "      <td>2020</td>\n",
       "      <td>UNIVERSIDADE SÃO JUDAS TADEU</td>\n",
       "      <td>SAO PAULO</td>\n",
       "      <td>PAULISTA</td>\n",
       "      <td>PARCIAL</td>\n",
       "      <td>PRESENCIAL</td>\n",
       "      <td>DIREITO</td>\n",
       "      <td>MATUTINO</td>\n",
       "      <td>F</td>\n",
       "      <td>Branca</td>\n",
       "      <td>04/04/2003</td>\n",
       "      <td>N</td>\n",
       "      <td>NORDESTE</td>\n",
       "      <td>BA</td>\n",
       "      <td>IBITITA</td>\n",
       "    </tr>\n",
       "    <tr>\n",
       "      <th>4</th>\n",
       "      <td>2020</td>\n",
       "      <td>UNIVERSIDADE SÃO JUDAS TADEU</td>\n",
       "      <td>SAO PAULO</td>\n",
       "      <td>PAULISTA</td>\n",
       "      <td>INTEGRAL</td>\n",
       "      <td>PRESENCIAL</td>\n",
       "      <td>DIREITO</td>\n",
       "      <td>MATUTINO</td>\n",
       "      <td>F</td>\n",
       "      <td>Branca</td>\n",
       "      <td>07/12/1977</td>\n",
       "      <td>N</td>\n",
       "      <td>SUDESTE</td>\n",
       "      <td>SP</td>\n",
       "      <td>SAO PAULO</td>\n",
       "    </tr>\n",
       "  </tbody>\n",
       "</table>\n",
       "</div>"
      ],
      "text/plain": [
       "    ANO                   INSTITUIÇÃO     MUNICIPIO  \\\n",
       "0  2020         UNIVERSIDADE PAULISTA      IPATINGA   \n",
       "1  2020    UNIVERSIDADE ESTÁCIO DE SÁ     FORTALEZA   \n",
       "2  2020     FACULDADE DE QUIXERAMOBIM  QUIXERAMOBIM   \n",
       "3  2020  UNIVERSIDADE SÃO JUDAS TADEU     SAO PAULO   \n",
       "4  2020  UNIVERSIDADE SÃO JUDAS TADEU     SAO PAULO   \n",
       "\n",
       "                             CAMPUS      TIPO  MODALIDADE      CURSO  \\\n",
       "0                          IPATINGA  INTEGRAL         EAD  PEDAGOGIA   \n",
       "1               EAD VIA CORPVS - CE  INTEGRAL         EAD  MARKETING   \n",
       "2  FACULDADE DE QUIXERAMOBIM - UNIQ  INTEGRAL  PRESENCIAL   FARMÁCIA   \n",
       "3                          PAULISTA   PARCIAL  PRESENCIAL    DIREITO   \n",
       "4                          PAULISTA  INTEGRAL  PRESENCIAL    DIREITO   \n",
       "\n",
       "               TURNO GÊNERO   ETNIA  NASCIMENTO PCD    REGIÃO  UF  \\\n",
       "0  CURSO A DISTÂNCIA      F   Parda  11/08/1973   N   SUDESTE  MG   \n",
       "1  CURSO A DISTÂNCIA      M   Parda  13/05/1987   N  NORDESTE  CE   \n",
       "2            NOTURNO      M   Parda  23/07/2001   N  NORDESTE  CE   \n",
       "3           MATUTINO      F  Branca  04/04/2003   N  NORDESTE  BA   \n",
       "4           MATUTINO      F  Branca  07/12/1977   N   SUDESTE  SP   \n",
       "\n",
       "  MUNICIPIO_BENEFICIARIO  \n",
       "0   GOVERNADOR VALADARES  \n",
       "1              FORTALEZA  \n",
       "2                MOMBACA  \n",
       "3                IBITITA  \n",
       "4              SAO PAULO  "
      ]
     },
     "execution_count": 222,
     "metadata": {},
     "output_type": "execute_result"
    }
   ],
   "source": [
    "prouni.head()"
   ]
  },
  {
   "cell_type": "code",
   "execution_count": 223,
   "metadata": {},
   "outputs": [
    {
     "data": {
      "text/plain": [
       "318"
      ]
     },
     "execution_count": 223,
     "metadata": {},
     "output_type": "execute_result"
    }
   ],
   "source": [
    "elementos = prouni['CURSO'].unique()\n",
    "len(elementos)"
   ]
  },
  {
   "cell_type": "code",
   "execution_count": 224,
   "metadata": {},
   "outputs": [
    {
     "data": {
      "text/plain": [
       "array(['PEDAGOGIA', 'MARKETING', 'FARMÁCIA', 'DIREITO',\n",
       "       'MEDICINA VETERINÁRIA', 'ODONTOLOGIA', 'GESTÃO COMERCIAL',\n",
       "       'GESTÃO DE RECURSOS HUMANOS', 'ENGENHARIA CIVIL',\n",
       "       'CIÊNCIAS CONTÁBEIS', 'ADMINISTRAÇÃO', 'PROCESSOS GERENCIAIS',\n",
       "       'GESTÃO AMBIENTAL', 'NUTRIÇÃO', 'HISTÓRIA', 'ESTÉTICA E COSMÉTICA',\n",
       "       'BIOMEDICINA', 'FISIOTERAPIA', 'ENFERMAGEM',\n",
       "       'COMUNICAÇÃO SOCIAL - JORNALISMO', 'SISTEMAS DE INFORMAÇÃO',\n",
       "       'EDUCAÇÃO FÍSICA', 'DESIGN DE INTERIORES',\n",
       "       'ANÁLISE E DESENVOLVIMENTO DE SISTEMAS', 'ENGENHARIA DE PRODUÇÃO',\n",
       "       'ENGENHARIA MECÂNICA', 'SERVIÇO SOCIAL', 'CIÊNCIAS DA COMPUTAÇÃO',\n",
       "       'LOGÍSTICA', 'PSICOLOGIA', 'GESTÃO DA PRODUÇÃO INDUSTRIAL',\n",
       "       'RELAÇÕES INTERNACIONAIS', 'ARTES VISUAIS',\n",
       "       'PUBLICIDADE E PROPAGANDA', 'ENGENHARIA QUÍMICA',\n",
       "       'ARQUITETURA E URBANISMO', 'ENGENHARIA DE CONTROLE E AUTOMAÇÃO',\n",
       "       'ENGENHARIA ELÉTRICA', 'LETRAS - PORTUGUÊS E INGLÊS',\n",
       "       'GESTÃO FINANCEIRA', 'CIÊNCIAS ECONÔMICAS', 'QUÍMICA',\n",
       "       'CIÊNCIAS BIOLÓGICAS', 'TEOLOGIA', 'MATEMÁTICA',\n",
       "       'PRODUÇÃO PUBLICITÁRIA', 'JORNALISMO', 'AGRONEGÓCIO',\n",
       "       'LETRAS - INGLÊS', 'PSICOPEDAGOGIA', 'GESTÃO PÚBLICA',\n",
       "       'RADIOLOGIA', 'GESTÃO DE SEGURANÇA PRIVADA', 'SOCIOLOGIA',\n",
       "       'GESTÃO HOSPITALAR', 'SISTEMA DE INFORMAÇÃO',\n",
       "       'CIÊNCIA DA COMPUTAÇÃO', 'SANEAMENTO AMBIENTAL', 'GASTRONOMIA',\n",
       "       'FILOSOFIA', 'ENGENHARIA DE COMPUTAÇÃO',\n",
       "       'COMUNICAÇÃO SOCIAL - PUBLICIDADE E PROPAGANDA',\n",
       "       'CIÊNCIA ECONÔMICA', 'LETRAS - PORTUGUÊS', 'DESIGN GRÁFICO',\n",
       "       'REDES DE COMPUTADORES', 'GESTÃO DA TECNOLOGIA DA INFORMAÇÃO',\n",
       "       'ÓPTICA E OPTOMETRIA', 'FÍSICA', 'BANCO DE DADOS', 'DESIGN',\n",
       "       'GESTÃO DE SERVIÇOS JURÍDICOS E NOTARIAIS', 'CIÊNCIA POLÍTICA',\n",
       "       'LETRAS - PORTUGUÊS E ESPANHOL', 'MÚSICA',\n",
       "       'INVESTIGAÇÃO PROFISSIONAL', 'GESTÃO EXECUTIVA DE NEGÓCIOS',\n",
       "       'MARKETING DIGITAL', 'GEOGRAFIA', 'SEGURANÇA PÚBLICA', 'LETRAS',\n",
       "       'GESTÃO DE SAÚDE PÚBLICA', 'SECRETARIADO', 'FOTOGRAFIA',\n",
       "       'DESIGN DE MODA', 'ENGENHARIA DE PRODUÇÃO MECÂNICA',\n",
       "       'ENGENHARIA AMBIENTAL', 'TEOLOGIA: DOUTRINA CATÓLICA', 'AGRONOMIA',\n",
       "       'JOGOS DIGITAIS', 'EDUCAÇÃO ESPECIAL', 'SEGURANÇA NO TRABALHO',\n",
       "       'ENGENHARIA AMBIENTAL E SANITÁRIA', 'RELAÇÕES PÚBLICAS',\n",
       "       'GESTÃO DA QUALIDADE', 'INVESTIGAÇÃO FORENSE E PERÍCIA CRIMINAL',\n",
       "       'NATUROLOGIA', 'MEDICINA', 'ENGENHARIA DE SOFTWARE',\n",
       "       'LETRAS - LÍNGUA INGLESA E RESPECTIVAS LITERATURAS',\n",
       "       'FONOAUDIOLOGIA', 'COMÉRCIO EXTERIOR',\n",
       "       'SERVIÇOS JURÍDICOS E NOTARIAIS', 'PRODUÇÃO AUDIOVISUAL',\n",
       "       'GERONTOLOGIA - CUIDADO AO IDOSO', 'ENGENHARIA BIOMEDICA',\n",
       "       'SEGURANÇA NO TRÃNSITO', 'PRODUÇÃO MULTIMÍDIA',\n",
       "       'EDUCAÇÃO ARTÍSTICA - MÚSICA', 'SEGURANÇA DA INFORMAÇÃO',\n",
       "       'MÚSICA - INSTRUMENTO', 'LETRAS - LÍNGUA PORTUGUESA',\n",
       "       'ENGENHARIA AGRONÔMICA', 'ENGENHARIA DE ALIMENTOS',\n",
       "       'LETRAS - LIBRAS', 'TERAPIA OCUPACIONAL', 'RÁDIO, TV E INTERNET',\n",
       "       'LETRAS COM PORTUGUÊS E ESPANHOL', 'GESTÃO PORTUÁRIA', 'HOTELARIA',\n",
       "       'MODA', 'EVENTOS', 'TURISMO',\n",
       "       'COMUNICAÇÃO SOCIAL - RELAÇÕES PÚBLICAS', 'SISTEMAS PARA INTERNET',\n",
       "       'MÚSICA - REGÊNCIA', 'ADMINISTRAÇÃO PÚBLICA',\n",
       "       'PRODUÇÃO FONOGRÁFICA', 'CONSTRUÇÃO DE EDIFÍCIOS',\n",
       "       'PILOTAGEM PROFISSIONAL DE AERONAVES', 'COMUNICAÇÃO SOCIAL',\n",
       "       'DEFESA CIBERNETICA', 'ENGENHARIA MECATRÔNICA', 'ZOOTECNIA',\n",
       "       'CIÊNCIAS AERONÁUTICAS', 'AUTOMAÇÃO INDUSTRIAL',\n",
       "       'SECRETARIADO EXECUTIVO - BILÍNGUE',\n",
       "       'ENGENHARIA DE AUTOMAÇÃO E CONTROLE', 'NEGÓCIOS IMOBILIÁRIOS',\n",
       "       'PRODUÇÃO DE CACAU E CHOCOLATE', 'ESTETICA', 'ENGENHARIA',\n",
       "       'ENGENHARIA DA COMPUTAÇÃO', 'MÚSICA - CORDAS',\n",
       "       'COMUNICAÇÃO E MARKETING', 'GESTÃO DE COOPERATIVAS',\n",
       "       'SERVIÇOS JURÍDICOS',\n",
       "       'SECRETARIADO EXECUTIVO BILINGUE - PORTUGUÊS/INGLÊS',\n",
       "       'ONTOPSICOLOGIA', 'ARTES', 'PROCESSOS ESCOLARES', 'MEDIAÇÃO',\n",
       "       'CIÊNCIAS SOCIAIS', 'GESTÃO DESPORTIVA E DE LAZER', 'TEATRO',\n",
       "       'CIÊNCIA DE DADOS', 'ESTETICA E COSMETOLOGIA',\n",
       "       'ENGENHARIA CARTOGRÁFICA E DE AGRIMENSURA', 'PETRÓLEO E GÁS',\n",
       "       'GESTÃO DA AVALIAÇÃO', 'SOLDAGEM',\n",
       "       'SERVIÇOS JURÍDICOS, NOTARIAS E DE REGISTRO',\n",
       "       'GESTÃO DE PRODUÇÃO INDUSTRIAL', 'EDUCAÇÃO ARTÍSTICA',\n",
       "       'TERAPIAS INTEGRATIVAS E COMPLEMENTARES',\n",
       "       'NEGÓCIOS INTERNACIONAIS', 'LETRAS - LÍNGUA INGLESA',\n",
       "       'EMPREENDEDORISMO', 'ENGENHARIA DE PETRÓLEO', 'FÍSICA MEDICA',\n",
       "       'PODOLOGIA', 'ESTETICA E IMAGEM PESSOAL', 'PRODUÇÃO CERVEJEIRA',\n",
       "       'QUÍMICA INDUSTRIAL', 'DANÇA', 'GESTÃO DE EQUINOCULTURA',\n",
       "       'ENGENHARIA DE BIOPROCESSOS E BIOTECNOLOGIA', 'DESIGN DE ANIMAÇÃO',\n",
       "       'CRIMINOLOGIA', 'ENGENHARIA ELETRAMAZÔNIANICA',\n",
       "       'GESTÃO DO AGRONEGÓCIO',\n",
       "       'GESTÃO DE SERVIÇOS JURÍDICOS, NOTARIAIS E DE REGISTRO',\n",
       "       'COMUNICAÇÃO SOCIAL - CINEMA', 'DESENHO INDUSTRIAL',\n",
       "       'ARTES CÊNICAS', 'MÚSICA - CANTO', 'BIOLOGIA', 'AUDIOVISUAL',\n",
       "       'ENGENHARIA CIVIL E AMBIENTAL', 'SEGURANÇA ALIMENTAR',\n",
       "       'TECNÓLOGO EM METALURGIA', 'DESIGN DE PRODUTO',\n",
       "       'MÚSICA - MÚSICA POPULAR BRASILEIRA', 'CINEMA E AUDIOVISUAL',\n",
       "       'MÍDIAS DIGITAIS', 'GESTÃO DE AGRONEGÓCIOS',\n",
       "       'ELETRAMAZÔNIANICA INDUSTRIAL', 'SECRETARIADO EXECUTIVO',\n",
       "       'REFRIGERAÇÃO E CLIMATIZAÇÃO', 'BIOCOMBUSTÍVEIS',\n",
       "       'ENGENHARIA DE PESCA', 'OPTOMETRIA', 'AQUICULTURA',\n",
       "       'COMUNICAÇÃO SOCIAL - RADIO E TELEVISÃO', 'QUIROPRAXIA',\n",
       "       'MANUTENÇÃO INDUSTRIAL', 'MECATRÔNICA INDUSTRIAL',\n",
       "       'ENGENHARIA FLORESTAL', 'ENGENHARIA AUTOMOTIVA', 'INFORMÁTICA',\n",
       "       'ENGENHARIA INDUSTRIAL MECÂNICA',\n",
       "       'SERVIÇOS REGISTRAIS E NOTARIAIS', 'COMPUTAÇÃO', 'MUSEOLOGIA',\n",
       "       'EMBELEZAMENTO E IMAGEM PESSOAL', 'BIBLIOTECONOMIA',\n",
       "       'ADMINISTRAÇÃO DE EMPRESAS', 'ENGENHARIA DE PETRÓLEO E GÁS',\n",
       "       'GERONTOLOGIA', 'ANÁLISE DE DADOS', 'MANUTENÇÃO DE AERONAVES',\n",
       "       'ENGENHARIA DE MINAS', 'PROCESSOS QUÍMICOS',\n",
       "       'BIG DATA E INTELIGÊNCIA ANALÍTICA', 'GESTÃO EM SAÚDE AMBIENTAL',\n",
       "       'LETRAS - PORTUGUÊS E JAPONÊS', 'ENGENHARIA DE ROBAMAZÔNIAS',\n",
       "       'MINISTERIO PASTORAL', 'GESTÃO DE TURISMO', 'LETRAS - ESPANHOL',\n",
       "       'FARMÁCIA E BIOQUÍMICA', 'TRADUÇÃO E INTERPRETAÇÃO',\n",
       "       'ARTES E MÍDIAS DIGITAIS', 'ENGENHARIA AERONÁUTICA E ESPAÇO',\n",
       "       'ENGENHARIA AERONÁUTICA', 'AVIAÇÃO CIVIL', 'DESIGN DE GAMES',\n",
       "       'ENGENHARIA DE ENERGIA', 'VISAGISMO E TERAPIAS CAPILARES',\n",
       "       'COMUNICAÇÃO SOCIAL - CINEMA E AUDIOVISUAL',\n",
       "       'COMUNICAÇÃO SOCIAL - PRODUÇÃO EDITORIAL',\n",
       "       'COMÉRCIO INTERNACIONAL', 'DESIGN DIGITAL',\n",
       "       'ENGENHARIA ELETRAMAZÔNIANICA E DE TELECOMUNICAÇÕES',\n",
       "       'NEGÓCIOS DA MODA', 'SECRETARIADO EXECUTIVO TRILÍNGUE',\n",
       "       'PLANEJAMENTO LOGÍSTICO DE CARGAS', 'SEGURANÇA PRIVADA',\n",
       "       'ESTATÍSTICA', 'DESENVOLVIMENTO DE SISTEMAS',\n",
       "       'QUÍMICA TECNOLÓGICA', 'COMUNICAÇÃO INSTITUCIONAL',\n",
       "       'BIOTECNOLOGIA', 'JORNALISMO DIGITAL',\n",
       "       'COMUNICAÇÃO SOCIAL - HABILITAÇÃO REALIZAÇÃO AUDIOVISUAL',\n",
       "       'CIÊNCIAS ATUARIAIS', 'MUSICOTERAPIA', 'DESIGN VISUAL',\n",
       "       'ENGENHARIA AMBIENTAL E ENERGIAS RENOVÁVEIS',\n",
       "       'GESTÃO DE MARKETING', 'FABRICAÇÃO MECÂNICA', 'SERVIÇOS JUDICIAIS',\n",
       "       'EDUCADOR SOCIAL', 'TRADUTOR E INTERPRETE', 'AGROPECUÁRIA',\n",
       "       'INTERDISCIPLINAR EM NEGÓCIOS',\n",
       "       'GESTÃO DE MARKETING EM MÍDIAS DIGITAIS',\n",
       "       'MÚSICA - PRODUÇÃO MUSICAL',\n",
       "       'INTERDISCIPLINAR EM CIÊNCIAS E HUMANIDADES - BI/LI',\n",
       "       'CIÊNCIAS BIOLÓGICAS - MODALIDADE MEDICA', 'ARQUEOLOGIA',\n",
       "       'PROPAGANDA E MARKETING', 'LETRAS PORTUGUÊS E INGLÊS',\n",
       "       'CIÊNCIAS SOCIOAMBIENTAIS', 'GESTÃO DE SERVIÇOS JURÍDICOS',\n",
       "       'CIÊNCIA DE DADOS E INTELIGÊNCIA ARTIFICIAL',\n",
       "       'LETRAS - TRADUÇÃO INGLÊS E PORTUGUÊS', 'COMUNICAÇÃO E MULTIMEIOS',\n",
       "       'COMUNICAÇÃO SOCIAL - COMUNICAÇÃO DIGITAL',\n",
       "       'INTERDISCIPLINAR EM HUMANIDADES, ARTES E TECNOLOGIA',\n",
       "       'CAFEICULTURA', 'ARTE: HISTÓRIA, CRÍTICA E CURADORIA',\n",
       "       'PRODUÇÃO CULTURAL',\n",
       "       'COMUNICAÇÃO SOCIAL - CINEMA E MÍDIAS DIGITAIS', 'OFTÁLMICA',\n",
       "       'BIG DATA E INTELIGÊNCIA ARTIFICIAL', 'SISTEMAS BIOMEDICOS',\n",
       "       'LETRAS - TRADUTOR E INTERPRETE', 'CIÊNCIAS AMBIENTAIS',\n",
       "       'COMUNICAÇÃO DAS ARTES DO CORPO',\n",
       "       'ANÁLISE E DESENVOLVIMENTO DE SISTEMAS INTERNET',\n",
       "       'ENGENHARIA DE ENERGIAS', 'CIÊNCIAS DA RELIGIÇO',\n",
       "       'PROCESSOS METALÚRGICOS', 'COACHING E DESENVOLVIMENTO HUMANO',\n",
       "       'COZINHA CONTEMPORÃNEA', 'FUTEBOL', 'ESCRITA CRIATIVA', 'COACHING',\n",
       "       'GESTÃO DE NEGÓCIOS E INOVAÇÃO', 'INTERDISCIPLINAR EM SAÚDE',\n",
       "       'ACUPUNTURA', 'ENGENHARIA DE AGRONEGÓCIOS',\n",
       "       'GESTÃO DE SERVIÇOS JUDICIÁRIOS E NOTARIAIS',\n",
       "       'GESTÃO E EMPREENDEDORISMO', 'NEGÓCIOS DIGITAIS',\n",
       "       'LETRAS - PORTUGUÊS E ALEMÃO',\n",
       "       'CIÊNCIAS DA RELIGIÇO - ENSINO RELIGIOSO',\n",
       "       'ENGENHARIA DE MATERIAIS', 'CRIAÇÃO DIGITAL',\n",
       "       'SERVIÇOS JURÍDICOS, CARTORÁRIOS E NOTARIAIS',\n",
       "       'GESTÃO EM LOGÍSTICA',\n",
       "       'TRADUÇÃO E INTERPRETAÇÃO - PORTUGUÊS/INGLÊS',\n",
       "       'GESTÃO EM VIGILÃNCIA EM SAÚDE', 'ENGENHARIA AGRÍCOLA E AMBIENTAL',\n",
       "       'MARKETING E PUBLICIDADE', 'COMPUTAÇÃO GRÁFICA', nan], dtype=object)"
      ]
     },
     "execution_count": 224,
     "metadata": {},
     "output_type": "execute_result"
    }
   ],
   "source": [
    "elementos"
   ]
  },
  {
   "cell_type": "code",
   "execution_count": 225,
   "metadata": {},
   "outputs": [],
   "source": [
    "cursos_sociais_humanas = ['SOCIOLOGIA', 'ANTROPOLOGIA', 'POLÍTICA', 'HISTÓRIA', 'GEOGRAFIA', 'LINGUÍSTICA', 'FILOSOFIA', 'ARQUEOLOGIA', 'RELAÇÕES INTERNACIONAIS', 'DIREITO']\n",
    "cursos_naturais_exatas = ['FÍSICA', 'QUÍMICA', 'BIOLOGIA', 'MATEMÁTICA', 'ASTRONOMIA', 'GEOLOGIA']\n",
    "artes_humanidade = ['ARTES VISUAIS', 'TEATRO', 'MÚSICA', 'DANÇA', 'LITERATURA', 'CINEMA', 'ESTUDOS CULTURAIS', 'ESTUDOS DE MÍDIA', 'DESIGN', 'ARQUITETURA', 'HISTÓRIA DA ARTE']\n",
    "saude = ['MEDICINA', 'ENFERMAGEM', 'ODONTOLOGIA', 'FISIOTERAPIA', 'FARMÁCIA', 'BIOMEDICINA', 'NUTRIÇÃO', 'PSICOLOGIA', 'CLÍNICA', 'SAÚDE PÚBLICA', 'CIÊNCIAS DO ESPORTE']\n",
    "agrarias = ['AGRICULTURA', 'AGRONOMIA', 'ENGENHARIA AGRÍCOLA', 'ZOOTECNIA', 'VETERINÁRIA', 'TECNOLOGIA DE ALIMENTOS']\n",
    "engenharias = ['ENGENHARIA CIVIL', 'ENGENHARIA MECÂNICA', 'ENGENHARIA ELÉTRICA', 'ENGENHARIA DE COMPUTAÇÃO', 'ENGENHARIA QUÍMICA', 'ENGENHARIA DE MATERIAIS', 'ENGENHARIA DE SOFTWARE', 'ENGENHARIA AMBIENTAL', 'CIÊNCIA DA COMPUTAÇÃO', 'TECNOLOGIA DA INFORMAÇÃO']\n",
    "sociais_aplicadas = ['ADMINISTRAÇÃO', 'CONTABILIDADE', 'ECONOMIA', 'MARKETING', 'COMÉRCIO EXTERIOR', 'TURISMO', 'COMUNICAÇÃO SOCIAL', 'RECURSOS HUMANOS', 'GESTÃO PÚBLICA']\n",
    "educação = ['PEDAGOGIA', 'LICENCIATURA', 'EDUCAÇÃO FÍSICA', 'LETRAS', 'PSICOPEDAGOGIA', 'EDUCAÇÃO ESPECIAL']\n",
    "ambientais = ['ECOLOGIA', 'AMBIENTAL', 'CIÊNCIAS DO AMBIENTE', 'SUSTENTABILIDADE']\n",
    "comunicação = ['COMUNICAÇÃO SOCIAL', 'JORNALISMO', 'PUBLICIDADE E PROPAGANDA', 'RELAÇÕES PÚBLICAS', 'PRODUÇÃO AUDIOVISUAL', 'ESTUDOS DE MÍDIA']\n",
    "\n",
    "def categorize_course(course):\n",
    "    if course in cursos_sociais_humanas:\n",
    "        return 'Ciências Sociais e Humanas'\n",
    "    elif course in cursos_naturais_exatas:\n",
    "        return 'Ciências Naturais e Exatas'\n",
    "    elif course in artes_humanidade:\n",
    "        return 'Artes e Humanidades'\n",
    "    elif course in saude:\n",
    "        return 'Saúde'\n",
    "    elif course in agrarias:\n",
    "        return 'Ciências Agrárias'\n",
    "    elif course in engenharias:\n",
    "        return 'Engenharia e Tecnologia'\n",
    "    elif course in sociais_aplicadas:\n",
    "        return 'Ciências Sociais Aplicadas'\n",
    "    elif course in educação:\n",
    "        return 'Educação'\n",
    "    elif course in ambientais:\n",
    "        return 'Ciências Ambientais'\n",
    "    elif course in comunicação:\n",
    "        return 'Comunicação'\n",
    "    else:\n",
    "        return 'Outros'"
   ]
  },
  {
   "cell_type": "code",
   "execution_count": 226,
   "metadata": {},
   "outputs": [],
   "source": [
    "prouni['AREA'] = prouni['CURSO'].apply(categorize_course)"
   ]
  },
  {
   "cell_type": "code",
   "execution_count": 227,
   "metadata": {},
   "outputs": [
    {
     "data": {
      "text/html": [
       "<div>\n",
       "<style scoped>\n",
       "    .dataframe tbody tr th:only-of-type {\n",
       "        vertical-align: middle;\n",
       "    }\n",
       "\n",
       "    .dataframe tbody tr th {\n",
       "        vertical-align: top;\n",
       "    }\n",
       "\n",
       "    .dataframe thead th {\n",
       "        text-align: right;\n",
       "    }\n",
       "</style>\n",
       "<table border=\"1\" class=\"dataframe\">\n",
       "  <thead>\n",
       "    <tr style=\"text-align: right;\">\n",
       "      <th></th>\n",
       "      <th>ANO</th>\n",
       "      <th>INSTITUIÇÃO</th>\n",
       "      <th>MUNICIPIO</th>\n",
       "      <th>CAMPUS</th>\n",
       "      <th>TIPO</th>\n",
       "      <th>MODALIDADE</th>\n",
       "      <th>CURSO</th>\n",
       "      <th>TURNO</th>\n",
       "      <th>GÊNERO</th>\n",
       "      <th>ETNIA</th>\n",
       "      <th>NASCIMENTO</th>\n",
       "      <th>PCD</th>\n",
       "      <th>REGIÃO</th>\n",
       "      <th>UF</th>\n",
       "      <th>MUNICIPIO_BENEFICIARIO</th>\n",
       "      <th>AREA</th>\n",
       "    </tr>\n",
       "  </thead>\n",
       "  <tbody>\n",
       "    <tr>\n",
       "      <th>0</th>\n",
       "      <td>2020</td>\n",
       "      <td>UNIVERSIDADE PAULISTA</td>\n",
       "      <td>IPATINGA</td>\n",
       "      <td>IPATINGA</td>\n",
       "      <td>INTEGRAL</td>\n",
       "      <td>EAD</td>\n",
       "      <td>PEDAGOGIA</td>\n",
       "      <td>CURSO A DISTÂNCIA</td>\n",
       "      <td>F</td>\n",
       "      <td>Parda</td>\n",
       "      <td>11/08/1973</td>\n",
       "      <td>N</td>\n",
       "      <td>SUDESTE</td>\n",
       "      <td>MG</td>\n",
       "      <td>GOVERNADOR VALADARES</td>\n",
       "      <td>Educação</td>\n",
       "    </tr>\n",
       "    <tr>\n",
       "      <th>1</th>\n",
       "      <td>2020</td>\n",
       "      <td>UNIVERSIDADE ESTÁCIO DE SÁ</td>\n",
       "      <td>FORTALEZA</td>\n",
       "      <td>EAD VIA CORPVS - CE</td>\n",
       "      <td>INTEGRAL</td>\n",
       "      <td>EAD</td>\n",
       "      <td>MARKETING</td>\n",
       "      <td>CURSO A DISTÂNCIA</td>\n",
       "      <td>M</td>\n",
       "      <td>Parda</td>\n",
       "      <td>13/05/1987</td>\n",
       "      <td>N</td>\n",
       "      <td>NORDESTE</td>\n",
       "      <td>CE</td>\n",
       "      <td>FORTALEZA</td>\n",
       "      <td>Ciências Sociais Aplicadas</td>\n",
       "    </tr>\n",
       "    <tr>\n",
       "      <th>2</th>\n",
       "      <td>2020</td>\n",
       "      <td>FACULDADE DE QUIXERAMOBIM</td>\n",
       "      <td>QUIXERAMOBIM</td>\n",
       "      <td>FACULDADE DE QUIXERAMOBIM - UNIQ</td>\n",
       "      <td>INTEGRAL</td>\n",
       "      <td>PRESENCIAL</td>\n",
       "      <td>FARMÁCIA</td>\n",
       "      <td>NOTURNO</td>\n",
       "      <td>M</td>\n",
       "      <td>Parda</td>\n",
       "      <td>23/07/2001</td>\n",
       "      <td>N</td>\n",
       "      <td>NORDESTE</td>\n",
       "      <td>CE</td>\n",
       "      <td>MOMBACA</td>\n",
       "      <td>Saúde</td>\n",
       "    </tr>\n",
       "    <tr>\n",
       "      <th>3</th>\n",
       "      <td>2020</td>\n",
       "      <td>UNIVERSIDADE SÃO JUDAS TADEU</td>\n",
       "      <td>SAO PAULO</td>\n",
       "      <td>PAULISTA</td>\n",
       "      <td>PARCIAL</td>\n",
       "      <td>PRESENCIAL</td>\n",
       "      <td>DIREITO</td>\n",
       "      <td>MATUTINO</td>\n",
       "      <td>F</td>\n",
       "      <td>Branca</td>\n",
       "      <td>04/04/2003</td>\n",
       "      <td>N</td>\n",
       "      <td>NORDESTE</td>\n",
       "      <td>BA</td>\n",
       "      <td>IBITITA</td>\n",
       "      <td>Ciências Sociais e Humanas</td>\n",
       "    </tr>\n",
       "    <tr>\n",
       "      <th>4</th>\n",
       "      <td>2020</td>\n",
       "      <td>UNIVERSIDADE SÃO JUDAS TADEU</td>\n",
       "      <td>SAO PAULO</td>\n",
       "      <td>PAULISTA</td>\n",
       "      <td>INTEGRAL</td>\n",
       "      <td>PRESENCIAL</td>\n",
       "      <td>DIREITO</td>\n",
       "      <td>MATUTINO</td>\n",
       "      <td>F</td>\n",
       "      <td>Branca</td>\n",
       "      <td>07/12/1977</td>\n",
       "      <td>N</td>\n",
       "      <td>SUDESTE</td>\n",
       "      <td>SP</td>\n",
       "      <td>SAO PAULO</td>\n",
       "      <td>Ciências Sociais e Humanas</td>\n",
       "    </tr>\n",
       "  </tbody>\n",
       "</table>\n",
       "</div>"
      ],
      "text/plain": [
       "    ANO                   INSTITUIÇÃO     MUNICIPIO  \\\n",
       "0  2020         UNIVERSIDADE PAULISTA      IPATINGA   \n",
       "1  2020    UNIVERSIDADE ESTÁCIO DE SÁ     FORTALEZA   \n",
       "2  2020     FACULDADE DE QUIXERAMOBIM  QUIXERAMOBIM   \n",
       "3  2020  UNIVERSIDADE SÃO JUDAS TADEU     SAO PAULO   \n",
       "4  2020  UNIVERSIDADE SÃO JUDAS TADEU     SAO PAULO   \n",
       "\n",
       "                             CAMPUS      TIPO  MODALIDADE      CURSO  \\\n",
       "0                          IPATINGA  INTEGRAL         EAD  PEDAGOGIA   \n",
       "1               EAD VIA CORPVS - CE  INTEGRAL         EAD  MARKETING   \n",
       "2  FACULDADE DE QUIXERAMOBIM - UNIQ  INTEGRAL  PRESENCIAL   FARMÁCIA   \n",
       "3                          PAULISTA   PARCIAL  PRESENCIAL    DIREITO   \n",
       "4                          PAULISTA  INTEGRAL  PRESENCIAL    DIREITO   \n",
       "\n",
       "               TURNO GÊNERO   ETNIA  NASCIMENTO PCD    REGIÃO  UF  \\\n",
       "0  CURSO A DISTÂNCIA      F   Parda  11/08/1973   N   SUDESTE  MG   \n",
       "1  CURSO A DISTÂNCIA      M   Parda  13/05/1987   N  NORDESTE  CE   \n",
       "2            NOTURNO      M   Parda  23/07/2001   N  NORDESTE  CE   \n",
       "3           MATUTINO      F  Branca  04/04/2003   N  NORDESTE  BA   \n",
       "4           MATUTINO      F  Branca  07/12/1977   N   SUDESTE  SP   \n",
       "\n",
       "  MUNICIPIO_BENEFICIARIO                        AREA  \n",
       "0   GOVERNADOR VALADARES                    Educação  \n",
       "1              FORTALEZA  Ciências Sociais Aplicadas  \n",
       "2                MOMBACA                       Saúde  \n",
       "3                IBITITA  Ciências Sociais e Humanas  \n",
       "4              SAO PAULO  Ciências Sociais e Humanas  "
      ]
     },
     "execution_count": 227,
     "metadata": {},
     "output_type": "execute_result"
    }
   ],
   "source": [
    "prouni.head()"
   ]
  },
  {
   "cell_type": "code",
   "execution_count": 228,
   "metadata": {},
   "outputs": [
    {
     "name": "stdout",
     "output_type": "stream",
     "text": [
      "<class 'pandas.core.frame.DataFrame'>\n",
      "RangeIndex: 166830 entries, 0 to 166829\n",
      "Data columns (total 16 columns):\n",
      " #   Column                  Non-Null Count   Dtype \n",
      "---  ------                  --------------   ----- \n",
      " 0   ANO                     166830 non-null  int64 \n",
      " 1   INSTITUIÇÃO             166830 non-null  object\n",
      " 2   MUNICIPIO               166830 non-null  object\n",
      " 3   CAMPUS                  166830 non-null  object\n",
      " 4   TIPO                    166830 non-null  object\n",
      " 5   MODALIDADE              166830 non-null  object\n",
      " 6   CURSO                   166792 non-null  object\n",
      " 7   TURNO                   166830 non-null  object\n",
      " 8   GÊNERO                  166830 non-null  object\n",
      " 9   ETNIA                   166830 non-null  object\n",
      " 10  NASCIMENTO              166830 non-null  object\n",
      " 11  PCD                     166830 non-null  object\n",
      " 12  REGIÃO                  166830 non-null  object\n",
      " 13  UF                      166830 non-null  object\n",
      " 14  MUNICIPIO_BENEFICIARIO  166830 non-null  object\n",
      " 15  AREA                    166830 non-null  object\n",
      "dtypes: int64(1), object(15)\n",
      "memory usage: 20.4+ MB\n"
     ]
    }
   ],
   "source": [
    "prouni.info()"
   ]
  },
  {
   "cell_type": "code",
   "execution_count": 229,
   "metadata": {},
   "outputs": [],
   "source": [
    "prouni['ETNIA'] = prouni['ETNIA'].replace('Ind¡gena', 'Indigena')"
   ]
  },
  {
   "cell_type": "code",
   "execution_count": 230,
   "metadata": {},
   "outputs": [],
   "source": [
    "prouni['IDADE'] = 2020 - pd.to_datetime(prouni['NASCIMENTO'], format='%d/%m/%Y').dt.year"
   ]
  },
  {
   "cell_type": "code",
   "execution_count": 231,
   "metadata": {},
   "outputs": [],
   "source": [
    "prouni5 = pd.read_csv('prouni5.csv')\n",
    "prouni5\n",
    "prouni = pd.concat([prouni5,prouni], ignore_index=True)"
   ]
  },
  {
   "cell_type": "code",
   "execution_count": 232,
   "metadata": {},
   "outputs": [],
   "source": [
    "prouni = prouni.drop(['NASCIMENTO', 'CAMPUS', 'MUNICIPIO_BENEFICIARIO'], axis=1)"
   ]
  },
  {
   "cell_type": "code",
   "execution_count": 233,
   "metadata": {},
   "outputs": [],
   "source": [
    "prouni['ETNIA'] = prouni['ETNIA'].str.upper()"
   ]
  },
  {
   "cell_type": "code",
   "execution_count": 234,
   "metadata": {},
   "outputs": [],
   "source": [
    "prouni['MUNICIPIO'] = prouni['MUNICIPIO'].str.upper()"
   ]
  },
  {
   "cell_type": "code",
   "execution_count": 235,
   "metadata": {},
   "outputs": [],
   "source": [
    "prouni['TURNO'] = prouni['TURNO'].str.upper()"
   ]
  },
  {
   "cell_type": "code",
   "execution_count": 236,
   "metadata": {},
   "outputs": [],
   "source": [
    "prouni['PCD'] = prouni['PCD'].replace('nao', 'N')\n",
    "prouni['PCD'] = prouni['PCD'].replace('sim', 'S')"
   ]
  },
  {
   "cell_type": "code",
   "execution_count": 237,
   "metadata": {},
   "outputs": [],
   "source": [
    "prouni['CURSO'] = prouni['CURSO'].str.upper()"
   ]
  },
  {
   "cell_type": "code",
   "execution_count": 238,
   "metadata": {},
   "outputs": [
    {
     "data": {
      "text/plain": [
       "1271"
      ]
     },
     "execution_count": 238,
     "metadata": {},
     "output_type": "execute_result"
    }
   ],
   "source": [
    "curs = prouni['CURSO'].unique()\n",
    "len(curs)"
   ]
  },
  {
   "cell_type": "code",
   "execution_count": 239,
   "metadata": {},
   "outputs": [
    {
     "data": {
      "text/html": [
       "<div>\n",
       "<style scoped>\n",
       "    .dataframe tbody tr th:only-of-type {\n",
       "        vertical-align: middle;\n",
       "    }\n",
       "\n",
       "    .dataframe tbody tr th {\n",
       "        vertical-align: top;\n",
       "    }\n",
       "\n",
       "    .dataframe thead th {\n",
       "        text-align: right;\n",
       "    }\n",
       "</style>\n",
       "<table border=\"1\" class=\"dataframe\">\n",
       "  <thead>\n",
       "    <tr style=\"text-align: right;\">\n",
       "      <th></th>\n",
       "      <th>ANO</th>\n",
       "      <th>INSTITUIÇÃO</th>\n",
       "      <th>TIPO</th>\n",
       "      <th>MODALIDADE</th>\n",
       "      <th>CURSO</th>\n",
       "      <th>TURNO</th>\n",
       "      <th>GÊNERO</th>\n",
       "      <th>ETNIA</th>\n",
       "      <th>PCD</th>\n",
       "      <th>REGIÃO</th>\n",
       "      <th>UF</th>\n",
       "      <th>MUNICIPIO</th>\n",
       "      <th>IDADE</th>\n",
       "      <th>AREA</th>\n",
       "    </tr>\n",
       "  </thead>\n",
       "  <tbody>\n",
       "    <tr>\n",
       "      <th>0</th>\n",
       "      <td>2005</td>\n",
       "      <td>UNIVERSIDADE REGIONAL INTEGRADA DO ALTO URUGUA...</td>\n",
       "      <td>PARCIAL</td>\n",
       "      <td>PRESENCIAL</td>\n",
       "      <td>ENFERMAGEM</td>\n",
       "      <td>INTEGRAL</td>\n",
       "      <td>F</td>\n",
       "      <td>BRANCA</td>\n",
       "      <td>N</td>\n",
       "      <td>SUL</td>\n",
       "      <td>RS</td>\n",
       "      <td>SANTO ANGELO</td>\n",
       "      <td>34.0</td>\n",
       "      <td>Saúde</td>\n",
       "    </tr>\n",
       "    <tr>\n",
       "      <th>1</th>\n",
       "      <td>2005</td>\n",
       "      <td>UNIVERSIDADE REGIONAL INTEGRADA DO ALTO URUGUA...</td>\n",
       "      <td>PARCIAL</td>\n",
       "      <td>PRESENCIAL</td>\n",
       "      <td>SERVICO SOCIAL</td>\n",
       "      <td>NOTURNO</td>\n",
       "      <td>F</td>\n",
       "      <td>PARDA</td>\n",
       "      <td>N</td>\n",
       "      <td>SUL</td>\n",
       "      <td>RS</td>\n",
       "      <td>FREDERICO WESTPHALEN</td>\n",
       "      <td>35.0</td>\n",
       "      <td>Outros</td>\n",
       "    </tr>\n",
       "    <tr>\n",
       "      <th>2</th>\n",
       "      <td>2005</td>\n",
       "      <td>UNIVERSIDADE REGIONAL INTEGRADA DO ALTO URUGUA...</td>\n",
       "      <td>PARCIAL</td>\n",
       "      <td>PRESENCIAL</td>\n",
       "      <td>SERVICO SOCIAL</td>\n",
       "      <td>NOTURNO</td>\n",
       "      <td>F</td>\n",
       "      <td>PARDA</td>\n",
       "      <td>N</td>\n",
       "      <td>SUL</td>\n",
       "      <td>RS</td>\n",
       "      <td>FREDERICO WESTPHALEN</td>\n",
       "      <td>37.0</td>\n",
       "      <td>Outros</td>\n",
       "    </tr>\n",
       "    <tr>\n",
       "      <th>3</th>\n",
       "      <td>2005</td>\n",
       "      <td>UNIVERSIDADE REGIONAL INTEGRADA DO ALTO URUGUA...</td>\n",
       "      <td>PARCIAL</td>\n",
       "      <td>PRESENCIAL</td>\n",
       "      <td>CIENCIA DA COMPUTACAO</td>\n",
       "      <td>NOTURNO</td>\n",
       "      <td>M</td>\n",
       "      <td>BRANCA</td>\n",
       "      <td>N</td>\n",
       "      <td>SUL</td>\n",
       "      <td>RS</td>\n",
       "      <td>FREDERICO WESTPHALEN</td>\n",
       "      <td>33.0</td>\n",
       "      <td>Outros</td>\n",
       "    </tr>\n",
       "    <tr>\n",
       "      <th>4</th>\n",
       "      <td>2005</td>\n",
       "      <td>UNIVERSIDADE REGIONAL INTEGRADA DO ALTO URUGUA...</td>\n",
       "      <td>PARCIAL</td>\n",
       "      <td>PRESENCIAL</td>\n",
       "      <td>CIENCIA DA COMPUTACAO</td>\n",
       "      <td>NOTURNO</td>\n",
       "      <td>M</td>\n",
       "      <td>AMARELA</td>\n",
       "      <td>N</td>\n",
       "      <td>SUL</td>\n",
       "      <td>RS</td>\n",
       "      <td>FREDERICO WESTPHALEN</td>\n",
       "      <td>34.0</td>\n",
       "      <td>Outros</td>\n",
       "    </tr>\n",
       "  </tbody>\n",
       "</table>\n",
       "</div>"
      ],
      "text/plain": [
       "    ANO                                        INSTITUIÇÃO     TIPO  \\\n",
       "0  2005  UNIVERSIDADE REGIONAL INTEGRADA DO ALTO URUGUA...  PARCIAL   \n",
       "1  2005  UNIVERSIDADE REGIONAL INTEGRADA DO ALTO URUGUA...  PARCIAL   \n",
       "2  2005  UNIVERSIDADE REGIONAL INTEGRADA DO ALTO URUGUA...  PARCIAL   \n",
       "3  2005  UNIVERSIDADE REGIONAL INTEGRADA DO ALTO URUGUA...  PARCIAL   \n",
       "4  2005  UNIVERSIDADE REGIONAL INTEGRADA DO ALTO URUGUA...  PARCIAL   \n",
       "\n",
       "   MODALIDADE                  CURSO     TURNO GÊNERO    ETNIA PCD REGIÃO  UF  \\\n",
       "0  PRESENCIAL             ENFERMAGEM  INTEGRAL      F   BRANCA   N    SUL  RS   \n",
       "1  PRESENCIAL         SERVICO SOCIAL   NOTURNO      F    PARDA   N    SUL  RS   \n",
       "2  PRESENCIAL         SERVICO SOCIAL   NOTURNO      F    PARDA   N    SUL  RS   \n",
       "3  PRESENCIAL  CIENCIA DA COMPUTACAO   NOTURNO      M   BRANCA   N    SUL  RS   \n",
       "4  PRESENCIAL  CIENCIA DA COMPUTACAO   NOTURNO      M  AMARELA   N    SUL  RS   \n",
       "\n",
       "              MUNICIPIO  IDADE    AREA  \n",
       "0          SANTO ANGELO   34.0   Saúde  \n",
       "1  FREDERICO WESTPHALEN   35.0  Outros  \n",
       "2  FREDERICO WESTPHALEN   37.0  Outros  \n",
       "3  FREDERICO WESTPHALEN   33.0  Outros  \n",
       "4  FREDERICO WESTPHALEN   34.0  Outros  "
      ]
     },
     "execution_count": 239,
     "metadata": {},
     "output_type": "execute_result"
    }
   ],
   "source": [
    "prouni.head()"
   ]
  },
  {
   "cell_type": "code",
   "execution_count": 240,
   "metadata": {},
   "outputs": [
    {
     "name": "stdout",
     "output_type": "stream",
     "text": [
      "Requirement already satisfied: unidecode in c:\\users\\rayan\\anaconda3\\lib\\site-packages (1.2.0)\n",
      "Note: you may need to restart the kernel to use updated packages.\n"
     ]
    }
   ],
   "source": [
    "pip install unidecode"
   ]
  },
  {
   "cell_type": "code",
   "execution_count": 241,
   "metadata": {},
   "outputs": [],
   "source": [
    "prouni['CURSO'] = prouni['CURSO'].astype(str)"
   ]
  },
  {
   "cell_type": "code",
   "execution_count": 242,
   "metadata": {},
   "outputs": [],
   "source": [
    "import unidecode\n",
    "prouni['CURSO'] = prouni['CURSO'].apply(lambda x: unidecode.unidecode(x))"
   ]
  },
  {
   "cell_type": "code",
   "execution_count": 243,
   "metadata": {},
   "outputs": [
    {
     "data": {
      "text/plain": [
       "1125"
      ]
     },
     "execution_count": 243,
     "metadata": {},
     "output_type": "execute_result"
    }
   ],
   "source": [
    "len(prouni['CURSO'].unique())"
   ]
  },
  {
   "cell_type": "code",
   "execution_count": 244,
   "metadata": {},
   "outputs": [
    {
     "data": {
      "text/plain": [
       "2730"
      ]
     },
     "execution_count": 244,
     "metadata": {},
     "output_type": "execute_result"
    }
   ],
   "source": [
    "inst = prouni['INSTITUIÇÃO'].unique()\n",
    "len(inst)"
   ]
  },
  {
   "cell_type": "code",
   "execution_count": 245,
   "metadata": {},
   "outputs": [
    {
     "data": {
      "text/plain": [
       "5118"
      ]
     },
     "execution_count": 245,
     "metadata": {},
     "output_type": "execute_result"
    }
   ],
   "source": [
    "municipios = prouni['MUNICIPIO'].unique()\n",
    "len(municipios)"
   ]
  },
  {
   "cell_type": "code",
   "execution_count": 246,
   "metadata": {},
   "outputs": [
    {
     "data": {
      "text/plain": [
       "array(['PARCIAL', 'INTEGRAL'], dtype=object)"
      ]
     },
     "execution_count": 246,
     "metadata": {},
     "output_type": "execute_result"
    }
   ],
   "source": [
    "prouni['TIPO'].unique()"
   ]
  },
  {
   "cell_type": "code",
   "execution_count": 247,
   "metadata": {},
   "outputs": [
    {
     "data": {
      "text/plain": [
       "array(['PRESENCIAL', 'EAD'], dtype=object)"
      ]
     },
     "execution_count": 247,
     "metadata": {},
     "output_type": "execute_result"
    }
   ],
   "source": [
    "prouni['MODALIDADE'].unique()"
   ]
  },
  {
   "cell_type": "code",
   "execution_count": 248,
   "metadata": {},
   "outputs": [
    {
     "data": {
      "text/plain": [
       "array(['INTEGRAL', 'NOTURNO', 'MATUTINO', 'VESPERTINO', 'A DISTANCIA',\n",
       "       'CURSO A DISTÂNCIA'], dtype=object)"
      ]
     },
     "execution_count": 248,
     "metadata": {},
     "output_type": "execute_result"
    }
   ],
   "source": [
    "prouni['TURNO'].unique()"
   ]
  },
  {
   "cell_type": "code",
   "execution_count": 249,
   "metadata": {},
   "outputs": [],
   "source": [
    "prouni['TURNO'] = prouni['TURNO'].replace('CURSO A DISTÂNCIA','A DISTANCIA')"
   ]
  },
  {
   "cell_type": "code",
   "execution_count": 250,
   "metadata": {},
   "outputs": [],
   "source": [
    "prouni['TURNO'] = prouni['TURNO'].str.upper()"
   ]
  },
  {
   "cell_type": "code",
   "execution_count": 251,
   "metadata": {},
   "outputs": [
    {
     "data": {
      "text/plain": [
       "array(['MULHER', 'HOMEM'], dtype=object)"
      ]
     },
     "execution_count": 251,
     "metadata": {},
     "output_type": "execute_result"
    }
   ],
   "source": [
    "prouni['GÊNERO']= prouni['GÊNERO'].replace('M','HOMEM')\n",
    "prouni['GÊNERO']= prouni['GÊNERO'].replace('F','MULHER')\n",
    "prouni['GÊNERO'].unique()\n"
   ]
  },
  {
   "cell_type": "code",
   "execution_count": 252,
   "metadata": {},
   "outputs": [
    {
     "data": {
      "text/plain": [
       "array(['BRANCA', 'PARDA', 'AMARELA', 'NAO INFORMADA', 'PRETA', 'INDIGENA',\n",
       "       'NÃO INFORMADA'], dtype=object)"
      ]
     },
     "execution_count": 252,
     "metadata": {},
     "output_type": "execute_result"
    }
   ],
   "source": [
    "prouni['ETNIA'].unique()"
   ]
  },
  {
   "cell_type": "code",
   "execution_count": 253,
   "metadata": {},
   "outputs": [],
   "source": [
    "prouni['ETNIA'] = prouni['ETNIA'].replace('NÃO INFORMADA', 'NAO INFORMADA')"
   ]
  },
  {
   "cell_type": "code",
   "execution_count": 254,
   "metadata": {},
   "outputs": [
    {
     "data": {
      "text/plain": [
       "array(['N', 'S'], dtype=object)"
      ]
     },
     "execution_count": 254,
     "metadata": {},
     "output_type": "execute_result"
    }
   ],
   "source": [
    "prouni['PCD'].unique()"
   ]
  },
  {
   "cell_type": "code",
   "execution_count": 255,
   "metadata": {},
   "outputs": [
    {
     "data": {
      "text/plain": [
       "array(['SUL', 'SUDESTE', nan, 'CENTRO-OESTE', 'NORTE', 'NORDESTE'],\n",
       "      dtype=object)"
      ]
     },
     "execution_count": 255,
     "metadata": {},
     "output_type": "execute_result"
    }
   ],
   "source": [
    "prouni['REGIÃO'].unique()"
   ]
  },
  {
   "cell_type": "code",
   "execution_count": 256,
   "metadata": {},
   "outputs": [
    {
     "data": {
      "text/plain": [
       "array(['INTEGRAL', 'NOTURNO', 'MATUTINO', 'VESPERTINO', 'A DISTANCIA'],\n",
       "      dtype=object)"
      ]
     },
     "execution_count": 256,
     "metadata": {},
     "output_type": "execute_result"
    }
   ],
   "source": [
    "prouni['TURNO'].unique()"
   ]
  },
  {
   "cell_type": "code",
   "execution_count": 257,
   "metadata": {},
   "outputs": [
    {
     "data": {
      "text/plain": [
       "0.0"
      ]
     },
     "execution_count": 257,
     "metadata": {},
     "output_type": "execute_result"
    }
   ],
   "source": [
    "prouni['IDADE'].min()"
   ]
  },
  {
   "cell_type": "code",
   "execution_count": 258,
   "metadata": {},
   "outputs": [
    {
     "data": {
      "text/plain": [
       "137.0"
      ]
     },
     "execution_count": 258,
     "metadata": {},
     "output_type": "execute_result"
    }
   ],
   "source": [
    "prouni['IDADE'].max()"
   ]
  },
  {
   "cell_type": "code",
   "execution_count": 259,
   "metadata": {},
   "outputs": [
    {
     "data": {
      "text/plain": [
       "30.466620847445952"
      ]
     },
     "execution_count": 259,
     "metadata": {},
     "output_type": "execute_result"
    }
   ],
   "source": [
    "prouni['IDADE'].mean()"
   ]
  },
  {
   "cell_type": "code",
   "execution_count": 260,
   "metadata": {},
   "outputs": [
    {
     "data": {
      "text/plain": [
       "29.0"
      ]
     },
     "execution_count": 260,
     "metadata": {},
     "output_type": "execute_result"
    }
   ],
   "source": [
    "prouni['IDADE'].median()"
   ]
  },
  {
   "cell_type": "code",
   "execution_count": 261,
   "metadata": {},
   "outputs": [
    {
     "data": {
      "text/plain": [
       "8.511683214456163"
      ]
     },
     "execution_count": 261,
     "metadata": {},
     "output_type": "execute_result"
    }
   ],
   "source": [
    "prouni['IDADE'].std()"
   ]
  },
  {
   "cell_type": "code",
   "execution_count": 262,
   "metadata": {},
   "outputs": [
    {
     "data": {
      "text/html": [
       "<div>\n",
       "<style scoped>\n",
       "    .dataframe tbody tr th:only-of-type {\n",
       "        vertical-align: middle;\n",
       "    }\n",
       "\n",
       "    .dataframe tbody tr th {\n",
       "        vertical-align: top;\n",
       "    }\n",
       "\n",
       "    .dataframe thead th {\n",
       "        text-align: right;\n",
       "    }\n",
       "</style>\n",
       "<table border=\"1\" class=\"dataframe\">\n",
       "  <thead>\n",
       "    <tr style=\"text-align: right;\">\n",
       "      <th></th>\n",
       "      <th>ANO</th>\n",
       "      <th>INSTITUIÇÃO</th>\n",
       "      <th>TIPO</th>\n",
       "      <th>MODALIDADE</th>\n",
       "      <th>CURSO</th>\n",
       "      <th>TURNO</th>\n",
       "      <th>GÊNERO</th>\n",
       "      <th>ETNIA</th>\n",
       "      <th>PCD</th>\n",
       "      <th>REGIÃO</th>\n",
       "      <th>UF</th>\n",
       "      <th>MUNICIPIO</th>\n",
       "      <th>IDADE</th>\n",
       "      <th>AREA</th>\n",
       "    </tr>\n",
       "  </thead>\n",
       "  <tbody>\n",
       "    <tr>\n",
       "      <th>0</th>\n",
       "      <td>2005</td>\n",
       "      <td>UNIVERSIDADE REGIONAL INTEGRADA DO ALTO URUGUA...</td>\n",
       "      <td>PARCIAL</td>\n",
       "      <td>PRESENCIAL</td>\n",
       "      <td>ENFERMAGEM</td>\n",
       "      <td>INTEGRAL</td>\n",
       "      <td>MULHER</td>\n",
       "      <td>BRANCA</td>\n",
       "      <td>N</td>\n",
       "      <td>SUL</td>\n",
       "      <td>RS</td>\n",
       "      <td>SANTO ANGELO</td>\n",
       "      <td>34.0</td>\n",
       "      <td>Saúde</td>\n",
       "    </tr>\n",
       "    <tr>\n",
       "      <th>1</th>\n",
       "      <td>2005</td>\n",
       "      <td>UNIVERSIDADE REGIONAL INTEGRADA DO ALTO URUGUA...</td>\n",
       "      <td>PARCIAL</td>\n",
       "      <td>PRESENCIAL</td>\n",
       "      <td>SERVICO SOCIAL</td>\n",
       "      <td>NOTURNO</td>\n",
       "      <td>MULHER</td>\n",
       "      <td>PARDA</td>\n",
       "      <td>N</td>\n",
       "      <td>SUL</td>\n",
       "      <td>RS</td>\n",
       "      <td>FREDERICO WESTPHALEN</td>\n",
       "      <td>35.0</td>\n",
       "      <td>Outros</td>\n",
       "    </tr>\n",
       "    <tr>\n",
       "      <th>2</th>\n",
       "      <td>2005</td>\n",
       "      <td>UNIVERSIDADE REGIONAL INTEGRADA DO ALTO URUGUA...</td>\n",
       "      <td>PARCIAL</td>\n",
       "      <td>PRESENCIAL</td>\n",
       "      <td>SERVICO SOCIAL</td>\n",
       "      <td>NOTURNO</td>\n",
       "      <td>MULHER</td>\n",
       "      <td>PARDA</td>\n",
       "      <td>N</td>\n",
       "      <td>SUL</td>\n",
       "      <td>RS</td>\n",
       "      <td>FREDERICO WESTPHALEN</td>\n",
       "      <td>37.0</td>\n",
       "      <td>Outros</td>\n",
       "    </tr>\n",
       "    <tr>\n",
       "      <th>3</th>\n",
       "      <td>2005</td>\n",
       "      <td>UNIVERSIDADE REGIONAL INTEGRADA DO ALTO URUGUA...</td>\n",
       "      <td>PARCIAL</td>\n",
       "      <td>PRESENCIAL</td>\n",
       "      <td>CIENCIA DA COMPUTACAO</td>\n",
       "      <td>NOTURNO</td>\n",
       "      <td>HOMEM</td>\n",
       "      <td>BRANCA</td>\n",
       "      <td>N</td>\n",
       "      <td>SUL</td>\n",
       "      <td>RS</td>\n",
       "      <td>FREDERICO WESTPHALEN</td>\n",
       "      <td>33.0</td>\n",
       "      <td>Outros</td>\n",
       "    </tr>\n",
       "    <tr>\n",
       "      <th>4</th>\n",
       "      <td>2005</td>\n",
       "      <td>UNIVERSIDADE REGIONAL INTEGRADA DO ALTO URUGUA...</td>\n",
       "      <td>PARCIAL</td>\n",
       "      <td>PRESENCIAL</td>\n",
       "      <td>CIENCIA DA COMPUTACAO</td>\n",
       "      <td>NOTURNO</td>\n",
       "      <td>HOMEM</td>\n",
       "      <td>AMARELA</td>\n",
       "      <td>N</td>\n",
       "      <td>SUL</td>\n",
       "      <td>RS</td>\n",
       "      <td>FREDERICO WESTPHALEN</td>\n",
       "      <td>34.0</td>\n",
       "      <td>Outros</td>\n",
       "    </tr>\n",
       "    <tr>\n",
       "      <th>...</th>\n",
       "      <td>...</td>\n",
       "      <td>...</td>\n",
       "      <td>...</td>\n",
       "      <td>...</td>\n",
       "      <td>...</td>\n",
       "      <td>...</td>\n",
       "      <td>...</td>\n",
       "      <td>...</td>\n",
       "      <td>...</td>\n",
       "      <td>...</td>\n",
       "      <td>...</td>\n",
       "      <td>...</td>\n",
       "      <td>...</td>\n",
       "      <td>...</td>\n",
       "    </tr>\n",
       "    <tr>\n",
       "      <th>667837</th>\n",
       "      <td>2020</td>\n",
       "      <td>CENTRO UNIVERSITÁRIO INTERNACIONAL</td>\n",
       "      <td>PARCIAL</td>\n",
       "      <td>EAD</td>\n",
       "      <td>ADMINISTRACAO</td>\n",
       "      <td>A DISTANCIA</td>\n",
       "      <td>MULHER</td>\n",
       "      <td>PARDA</td>\n",
       "      <td>N</td>\n",
       "      <td>SUDESTE</td>\n",
       "      <td>RJ</td>\n",
       "      <td>CABO FRIO</td>\n",
       "      <td>24.0</td>\n",
       "      <td>Ciências Sociais Aplicadas</td>\n",
       "    </tr>\n",
       "    <tr>\n",
       "      <th>667838</th>\n",
       "      <td>2020</td>\n",
       "      <td>CENTRO UNIVERSITÁRIO INTERNACIONAL</td>\n",
       "      <td>PARCIAL</td>\n",
       "      <td>EAD</td>\n",
       "      <td>RELACOES INTERNACIONAIS</td>\n",
       "      <td>A DISTANCIA</td>\n",
       "      <td>MULHER</td>\n",
       "      <td>PARDA</td>\n",
       "      <td>N</td>\n",
       "      <td>SUDESTE</td>\n",
       "      <td>RJ</td>\n",
       "      <td>CABO FRIO</td>\n",
       "      <td>18.0</td>\n",
       "      <td>Ciências Sociais e Humanas</td>\n",
       "    </tr>\n",
       "    <tr>\n",
       "      <th>667839</th>\n",
       "      <td>2020</td>\n",
       "      <td>CENTRO UNIVERSITÁRIO INTERNACIONAL</td>\n",
       "      <td>PARCIAL</td>\n",
       "      <td>EAD</td>\n",
       "      <td>ADMINISTRACAO</td>\n",
       "      <td>A DISTANCIA</td>\n",
       "      <td>HOMEM</td>\n",
       "      <td>BRANCA</td>\n",
       "      <td>N</td>\n",
       "      <td>SUL</td>\n",
       "      <td>RS</td>\n",
       "      <td>CANOAS</td>\n",
       "      <td>23.0</td>\n",
       "      <td>Ciências Sociais Aplicadas</td>\n",
       "    </tr>\n",
       "    <tr>\n",
       "      <th>667840</th>\n",
       "      <td>2020</td>\n",
       "      <td>CENTRO UNIVERSITÁRIO INTERNACIONAL</td>\n",
       "      <td>PARCIAL</td>\n",
       "      <td>EAD</td>\n",
       "      <td>RELACOES INTERNACIONAIS</td>\n",
       "      <td>A DISTANCIA</td>\n",
       "      <td>MULHER</td>\n",
       "      <td>PARDA</td>\n",
       "      <td>N</td>\n",
       "      <td>NORTE</td>\n",
       "      <td>PA</td>\n",
       "      <td>ANANINDEUA</td>\n",
       "      <td>45.0</td>\n",
       "      <td>Ciências Sociais e Humanas</td>\n",
       "    </tr>\n",
       "    <tr>\n",
       "      <th>667841</th>\n",
       "      <td>2020</td>\n",
       "      <td>CENTRO UNIVERSITÁRIO INTERNACIONAL</td>\n",
       "      <td>PARCIAL</td>\n",
       "      <td>EAD</td>\n",
       "      <td>MUSICA</td>\n",
       "      <td>A DISTANCIA</td>\n",
       "      <td>HOMEM</td>\n",
       "      <td>BRANCA</td>\n",
       "      <td>N</td>\n",
       "      <td>SUL</td>\n",
       "      <td>RS</td>\n",
       "      <td>LAJEADO</td>\n",
       "      <td>24.0</td>\n",
       "      <td>Artes e Humanidades</td>\n",
       "    </tr>\n",
       "  </tbody>\n",
       "</table>\n",
       "<p>667842 rows × 14 columns</p>\n",
       "</div>"
      ],
      "text/plain": [
       "         ANO                                        INSTITUIÇÃO     TIPO  \\\n",
       "0       2005  UNIVERSIDADE REGIONAL INTEGRADA DO ALTO URUGUA...  PARCIAL   \n",
       "1       2005  UNIVERSIDADE REGIONAL INTEGRADA DO ALTO URUGUA...  PARCIAL   \n",
       "2       2005  UNIVERSIDADE REGIONAL INTEGRADA DO ALTO URUGUA...  PARCIAL   \n",
       "3       2005  UNIVERSIDADE REGIONAL INTEGRADA DO ALTO URUGUA...  PARCIAL   \n",
       "4       2005  UNIVERSIDADE REGIONAL INTEGRADA DO ALTO URUGUA...  PARCIAL   \n",
       "...      ...                                                ...      ...   \n",
       "667837  2020                 CENTRO UNIVERSITÁRIO INTERNACIONAL  PARCIAL   \n",
       "667838  2020                 CENTRO UNIVERSITÁRIO INTERNACIONAL  PARCIAL   \n",
       "667839  2020                 CENTRO UNIVERSITÁRIO INTERNACIONAL  PARCIAL   \n",
       "667840  2020                 CENTRO UNIVERSITÁRIO INTERNACIONAL  PARCIAL   \n",
       "667841  2020                 CENTRO UNIVERSITÁRIO INTERNACIONAL  PARCIAL   \n",
       "\n",
       "        MODALIDADE                    CURSO        TURNO  GÊNERO    ETNIA PCD  \\\n",
       "0       PRESENCIAL               ENFERMAGEM     INTEGRAL  MULHER   BRANCA   N   \n",
       "1       PRESENCIAL           SERVICO SOCIAL      NOTURNO  MULHER    PARDA   N   \n",
       "2       PRESENCIAL           SERVICO SOCIAL      NOTURNO  MULHER    PARDA   N   \n",
       "3       PRESENCIAL    CIENCIA DA COMPUTACAO      NOTURNO   HOMEM   BRANCA   N   \n",
       "4       PRESENCIAL    CIENCIA DA COMPUTACAO      NOTURNO   HOMEM  AMARELA   N   \n",
       "...            ...                      ...          ...     ...      ...  ..   \n",
       "667837         EAD            ADMINISTRACAO  A DISTANCIA  MULHER    PARDA   N   \n",
       "667838         EAD  RELACOES INTERNACIONAIS  A DISTANCIA  MULHER    PARDA   N   \n",
       "667839         EAD            ADMINISTRACAO  A DISTANCIA   HOMEM   BRANCA   N   \n",
       "667840         EAD  RELACOES INTERNACIONAIS  A DISTANCIA  MULHER    PARDA   N   \n",
       "667841         EAD                   MUSICA  A DISTANCIA   HOMEM   BRANCA   N   \n",
       "\n",
       "         REGIÃO  UF             MUNICIPIO  IDADE                        AREA  \n",
       "0           SUL  RS          SANTO ANGELO   34.0                       Saúde  \n",
       "1           SUL  RS  FREDERICO WESTPHALEN   35.0                      Outros  \n",
       "2           SUL  RS  FREDERICO WESTPHALEN   37.0                      Outros  \n",
       "3           SUL  RS  FREDERICO WESTPHALEN   33.0                      Outros  \n",
       "4           SUL  RS  FREDERICO WESTPHALEN   34.0                      Outros  \n",
       "...         ...  ..                   ...    ...                         ...  \n",
       "667837  SUDESTE  RJ             CABO FRIO   24.0  Ciências Sociais Aplicadas  \n",
       "667838  SUDESTE  RJ             CABO FRIO   18.0  Ciências Sociais e Humanas  \n",
       "667839      SUL  RS                CANOAS   23.0  Ciências Sociais Aplicadas  \n",
       "667840    NORTE  PA            ANANINDEUA   45.0  Ciências Sociais e Humanas  \n",
       "667841      SUL  RS               LAJEADO   24.0         Artes e Humanidades  \n",
       "\n",
       "[667842 rows x 14 columns]"
      ]
     },
     "execution_count": 262,
     "metadata": {},
     "output_type": "execute_result"
    }
   ],
   "source": [
    "prouni"
   ]
  },
  {
   "cell_type": "code",
   "execution_count": 263,
   "metadata": {},
   "outputs": [],
   "source": [
    "dic = {'.*ADMINISTRACAO.*|.*NEGOCIOS.*|.*GERENCIA.*|.*SECRETARIADO.*|.*GESTAO.*':'Negócios',\n",
    "                 '.*CIENCIA DA COMPUTACAO.*|.*COMPUTADOR.*|.*INFORMATIC*.|.*SISTEMAS*.|.*BIG DATA*.|.*INFORM.*|.*DADOS.*|.*TECNOLOGIA DA INFORMACAO.*':'Ciências da Computação',\n",
    "                 '.*ARTES VISUAIS.*|.*ARTE*.|.*TEATRO.*|.*MUSICA.*|.*DANCA.*|.*LITERATURA.*|.*ESTUDOS CULTURAIS.*|.*ESTUDOS DE MIDIA.*|.*DESIGN.*|.*ARQUITETURA.*|.*HISTORIA DA ARTE.*' : 'Artes e Humanidades',\n",
    "                 '.*ENFERMAGEM.*|.*ODONTOLOGIA.*|.*ESTETICA.*|.*COSMETIC*.|.*FISIOTERAPIA.*|.*FONO.*|.*FARMACIA.*|.*BIO.*|.*BIOMEDICINA.*|.*NUTRICAO.*|.*PSICOLOGIA.*|.*CLINICA.*|.*SAUDE PUBLICA.*|.*CIENCIAS DO ESPORTE.*':'Saúde',\n",
    "                 '.*AGRICULTURA.*|.*AGRONOMIA.*|.*AGRO.*|.*ENGENHARIA AGRICOLA.*|.*ZOOTECNIA.*|.*VETERINARIA.*|.*TECNOLOGIA DE ALIMENTOS.*':'Ciências Agrárias',\n",
    "                 '.*ENGENHARIA.*|.*ENGENHARIA CIVIL.*|.*ENGENHARIA MECANICA.*|.*ENGENHARIA ELETRICA.*|.*ENGENHARIA QUIMICA.*|.*ENGENHARIA DE MATERIAIS.*':'Engenharias',\n",
    "                 '.*CONTABEIS.*|.*CONTABILIDADE.*|.*ECONOMIA.*|.*ECONOM.*|.*MODA.*|.*MARKETING.*|.*COMERCIO EXTERIOR.*|.*TURISMO.*|.*SERVICO SOCIAL.*|.*DESENHO INDUSTRIAL.*|.*RECURSOS HUMANOS.*|.*GESTAO PUBLICA.*':'Ciências Sociais Aplicadas',\n",
    "                 '.*FISICA.*|.*QUIMICA.*|.*BIOLOGIA.*|.*MATEMATICA.*|.*ESTATISTICA*.|.*ASTRONOMIA.*|.*GEOLOGIA.*':'Ciências Naturais e Exatas',\n",
    "                 '.*SOCIOLOGIA.*|.*ANTROPOLOGIA.*|.*POLITICA.*|.*HISTORIA.*|.*GEOGRAFIA.*|.*LINGUISTICA.*|.*FILOSOFIA.*|.*ARQUEOLOGIA.*|.*RELACOES INTERNACIONAIS.*':'Ciências Sociais e Humanas',\n",
    "                 '.*PEDAGOGIA.*|.*LICENCIATURA.*|.*EDUCACAO FISICA.*|.*LETRAS.*|.*PSICOPEDAGOGIA.*|.*NORMAL SUPERIOR.*|.*EDUCACAO.*':'Educação',\n",
    "                 '.*ECOLOGIA.*|.*AMBIENTAL.*|.*CIENCIAS DO AMBIENTE.*|.*SUSTENTABILIDADE.*':'Ciências Ambientais',\n",
    "                 '.*COMUNICACAO SOCIAL.*|.*COMUNICACAO.*|.MULTIMIDI.*|.*JORNALISMO.*|.*CINEMA.*|.*PUBLICIDADE.*|.*PROPAGANDA.*|.*RELACOES PUBLICAS.*|.*AUDIOVISUAL*.|.*PRODUCAO AUDIOVISUAL.*|.*ESTUDOS DE MIDIA.*':'Comunicação',\n",
    "                 '.*MEDICINA.*':'Medicina',\n",
    "                 '.*DIREITO.*|.*JURIDICO.*':'Direito',\n",
    "                 '.*LETRAS.*':'Letras'}\n",
    "\n"
   ]
  },
  {
   "cell_type": "code",
   "execution_count": 264,
   "metadata": {},
   "outputs": [],
   "source": [
    "prouni['AREA'] = prouni['CURSO'].replace(dic, regex=True)"
   ]
  },
  {
   "cell_type": "code",
   "execution_count": 265,
   "metadata": {},
   "outputs": [],
   "source": [
    "mask = prouni['AREA'].isin(dic.values())"
   ]
  },
  {
   "cell_type": "code",
   "execution_count": 266,
   "metadata": {},
   "outputs": [],
   "source": [
    "prouni.loc[~mask, 'AREA'] = 'Outros'"
   ]
  },
  {
   "cell_type": "code",
   "execution_count": 267,
   "metadata": {},
   "outputs": [
    {
     "data": {
      "text/plain": [
       "15"
      ]
     },
     "execution_count": 267,
     "metadata": {},
     "output_type": "execute_result"
    }
   ],
   "source": [
    "len(prouni['AREA'].unique())"
   ]
  },
  {
   "cell_type": "code",
   "execution_count": 268,
   "metadata": {},
   "outputs": [],
   "source": [
    "prouni['AREA'] = prouni['AREA'].str.upper()"
   ]
  },
  {
   "cell_type": "code",
   "execution_count": 269,
   "metadata": {},
   "outputs": [
    {
     "data": {
      "text/html": [
       "<div>\n",
       "<style scoped>\n",
       "    .dataframe tbody tr th:only-of-type {\n",
       "        vertical-align: middle;\n",
       "    }\n",
       "\n",
       "    .dataframe tbody tr th {\n",
       "        vertical-align: top;\n",
       "    }\n",
       "\n",
       "    .dataframe thead th {\n",
       "        text-align: right;\n",
       "    }\n",
       "</style>\n",
       "<table border=\"1\" class=\"dataframe\">\n",
       "  <thead>\n",
       "    <tr style=\"text-align: right;\">\n",
       "      <th></th>\n",
       "      <th>ANO</th>\n",
       "      <th>INSTITUIÇÃO</th>\n",
       "      <th>TIPO</th>\n",
       "      <th>MODALIDADE</th>\n",
       "      <th>CURSO</th>\n",
       "      <th>TURNO</th>\n",
       "      <th>GÊNERO</th>\n",
       "      <th>ETNIA</th>\n",
       "      <th>PCD</th>\n",
       "      <th>REGIÃO</th>\n",
       "      <th>UF</th>\n",
       "      <th>MUNICIPIO</th>\n",
       "      <th>IDADE</th>\n",
       "      <th>AREA</th>\n",
       "    </tr>\n",
       "  </thead>\n",
       "  <tbody>\n",
       "    <tr>\n",
       "      <th>0</th>\n",
       "      <td>2005</td>\n",
       "      <td>UNIVERSIDADE REGIONAL INTEGRADA DO ALTO URUGUA...</td>\n",
       "      <td>PARCIAL</td>\n",
       "      <td>PRESENCIAL</td>\n",
       "      <td>ENFERMAGEM</td>\n",
       "      <td>INTEGRAL</td>\n",
       "      <td>MULHER</td>\n",
       "      <td>BRANCA</td>\n",
       "      <td>N</td>\n",
       "      <td>SUL</td>\n",
       "      <td>RS</td>\n",
       "      <td>SANTO ANGELO</td>\n",
       "      <td>34.0</td>\n",
       "      <td>SAÚDE</td>\n",
       "    </tr>\n",
       "    <tr>\n",
       "      <th>1</th>\n",
       "      <td>2005</td>\n",
       "      <td>UNIVERSIDADE REGIONAL INTEGRADA DO ALTO URUGUA...</td>\n",
       "      <td>PARCIAL</td>\n",
       "      <td>PRESENCIAL</td>\n",
       "      <td>SERVICO SOCIAL</td>\n",
       "      <td>NOTURNO</td>\n",
       "      <td>MULHER</td>\n",
       "      <td>PARDA</td>\n",
       "      <td>N</td>\n",
       "      <td>SUL</td>\n",
       "      <td>RS</td>\n",
       "      <td>FREDERICO WESTPHALEN</td>\n",
       "      <td>35.0</td>\n",
       "      <td>CIÊNCIAS SOCIAIS APLICADAS</td>\n",
       "    </tr>\n",
       "    <tr>\n",
       "      <th>2</th>\n",
       "      <td>2005</td>\n",
       "      <td>UNIVERSIDADE REGIONAL INTEGRADA DO ALTO URUGUA...</td>\n",
       "      <td>PARCIAL</td>\n",
       "      <td>PRESENCIAL</td>\n",
       "      <td>SERVICO SOCIAL</td>\n",
       "      <td>NOTURNO</td>\n",
       "      <td>MULHER</td>\n",
       "      <td>PARDA</td>\n",
       "      <td>N</td>\n",
       "      <td>SUL</td>\n",
       "      <td>RS</td>\n",
       "      <td>FREDERICO WESTPHALEN</td>\n",
       "      <td>37.0</td>\n",
       "      <td>CIÊNCIAS SOCIAIS APLICADAS</td>\n",
       "    </tr>\n",
       "    <tr>\n",
       "      <th>3</th>\n",
       "      <td>2005</td>\n",
       "      <td>UNIVERSIDADE REGIONAL INTEGRADA DO ALTO URUGUA...</td>\n",
       "      <td>PARCIAL</td>\n",
       "      <td>PRESENCIAL</td>\n",
       "      <td>CIENCIA DA COMPUTACAO</td>\n",
       "      <td>NOTURNO</td>\n",
       "      <td>HOMEM</td>\n",
       "      <td>BRANCA</td>\n",
       "      <td>N</td>\n",
       "      <td>SUL</td>\n",
       "      <td>RS</td>\n",
       "      <td>FREDERICO WESTPHALEN</td>\n",
       "      <td>33.0</td>\n",
       "      <td>CIÊNCIAS DA COMPUTAÇÃO</td>\n",
       "    </tr>\n",
       "    <tr>\n",
       "      <th>4</th>\n",
       "      <td>2005</td>\n",
       "      <td>UNIVERSIDADE REGIONAL INTEGRADA DO ALTO URUGUA...</td>\n",
       "      <td>PARCIAL</td>\n",
       "      <td>PRESENCIAL</td>\n",
       "      <td>CIENCIA DA COMPUTACAO</td>\n",
       "      <td>NOTURNO</td>\n",
       "      <td>HOMEM</td>\n",
       "      <td>AMARELA</td>\n",
       "      <td>N</td>\n",
       "      <td>SUL</td>\n",
       "      <td>RS</td>\n",
       "      <td>FREDERICO WESTPHALEN</td>\n",
       "      <td>34.0</td>\n",
       "      <td>CIÊNCIAS DA COMPUTAÇÃO</td>\n",
       "    </tr>\n",
       "  </tbody>\n",
       "</table>\n",
       "</div>"
      ],
      "text/plain": [
       "    ANO                                        INSTITUIÇÃO     TIPO  \\\n",
       "0  2005  UNIVERSIDADE REGIONAL INTEGRADA DO ALTO URUGUA...  PARCIAL   \n",
       "1  2005  UNIVERSIDADE REGIONAL INTEGRADA DO ALTO URUGUA...  PARCIAL   \n",
       "2  2005  UNIVERSIDADE REGIONAL INTEGRADA DO ALTO URUGUA...  PARCIAL   \n",
       "3  2005  UNIVERSIDADE REGIONAL INTEGRADA DO ALTO URUGUA...  PARCIAL   \n",
       "4  2005  UNIVERSIDADE REGIONAL INTEGRADA DO ALTO URUGUA...  PARCIAL   \n",
       "\n",
       "   MODALIDADE                  CURSO     TURNO  GÊNERO    ETNIA PCD REGIÃO  \\\n",
       "0  PRESENCIAL             ENFERMAGEM  INTEGRAL  MULHER   BRANCA   N    SUL   \n",
       "1  PRESENCIAL         SERVICO SOCIAL   NOTURNO  MULHER    PARDA   N    SUL   \n",
       "2  PRESENCIAL         SERVICO SOCIAL   NOTURNO  MULHER    PARDA   N    SUL   \n",
       "3  PRESENCIAL  CIENCIA DA COMPUTACAO   NOTURNO   HOMEM   BRANCA   N    SUL   \n",
       "4  PRESENCIAL  CIENCIA DA COMPUTACAO   NOTURNO   HOMEM  AMARELA   N    SUL   \n",
       "\n",
       "   UF             MUNICIPIO  IDADE                        AREA  \n",
       "0  RS          SANTO ANGELO   34.0                       SAÚDE  \n",
       "1  RS  FREDERICO WESTPHALEN   35.0  CIÊNCIAS SOCIAIS APLICADAS  \n",
       "2  RS  FREDERICO WESTPHALEN   37.0  CIÊNCIAS SOCIAIS APLICADAS  \n",
       "3  RS  FREDERICO WESTPHALEN   33.0      CIÊNCIAS DA COMPUTAÇÃO  \n",
       "4  RS  FREDERICO WESTPHALEN   34.0      CIÊNCIAS DA COMPUTAÇÃO  "
      ]
     },
     "execution_count": 269,
     "metadata": {},
     "output_type": "execute_result"
    }
   ],
   "source": [
    "prouni.head()"
   ]
  },
  {
   "cell_type": "code",
   "execution_count": 270,
   "metadata": {},
   "outputs": [
    {
     "data": {
      "text/plain": [
       "<bound method NDFrame.astype of 0         34.0\n",
       "1         35.0\n",
       "2         37.0\n",
       "3         33.0\n",
       "4         34.0\n",
       "          ... \n",
       "667837    24.0\n",
       "667838    18.0\n",
       "667839    23.0\n",
       "667840    45.0\n",
       "667841    24.0\n",
       "Name: IDADE, Length: 667842, dtype: float64>"
      ]
     },
     "execution_count": 270,
     "metadata": {},
     "output_type": "execute_result"
    }
   ],
   "source": [
    "prouni['IDADE'].astype"
   ]
  },
  {
   "cell_type": "code",
   "execution_count": 271,
   "metadata": {},
   "outputs": [],
   "source": [
    "# Exemplo de coluna de números float\n",
    "coluna_float = prouni['IDADE']\n",
    "\n",
    "# Converter para números inteiros\n",
    "prouni['IDADE'] = [int(valor) for valor in coluna_float]"
   ]
  },
  {
   "cell_type": "code",
   "execution_count": 272,
   "metadata": {},
   "outputs": [],
   "source": [
    "# Defina as faixas etárias\n",
    "faixas_etarias = [\n",
    "    (0, 20, '0 ~ 20 anos'),\n",
    "    (21, 30, '21 ~ 30anos'),\n",
    "    (31, 40, '31 ~ 40 anos'),\n",
    "    (41,50, '41 ~ 50 anos'),\n",
    "    (51, 80, '51 ~ 80 anos'),\n",
    "    (81, 150, '+81 anos')\n",
    "]\n",
    "\n",
    "# Função para atribuir a faixa etária com base na idade\n",
    "def atribuir_faixa_etaria(idade):\n",
    "    for faixa in faixas_etarias:\n",
    "        if idade >= faixa[0] and idade < faixa[1]:\n",
    "            return faixa[2]\n",
    "    return 'Desconhecido'"
   ]
  },
  {
   "cell_type": "code",
   "execution_count": 273,
   "metadata": {},
   "outputs": [
    {
     "name": "stdout",
     "output_type": "stream",
     "text": [
      "<class 'pandas.core.frame.DataFrame'>\n",
      "RangeIndex: 667842 entries, 0 to 667841\n",
      "Data columns (total 14 columns):\n",
      " #   Column       Non-Null Count   Dtype \n",
      "---  ------       --------------   ----- \n",
      " 0   ANO          667842 non-null  int64 \n",
      " 1   INSTITUIÇÃO  667525 non-null  object\n",
      " 2   TIPO         667842 non-null  object\n",
      " 3   MODALIDADE   667842 non-null  object\n",
      " 4   CURSO        667842 non-null  object\n",
      " 5   TURNO        667842 non-null  object\n",
      " 6   GÊNERO       667842 non-null  object\n",
      " 7   ETNIA        667842 non-null  object\n",
      " 8   PCD          667842 non-null  object\n",
      " 9   REGIÃO       667561 non-null  object\n",
      " 10  UF           667561 non-null  object\n",
      " 11  MUNICIPIO    667561 non-null  object\n",
      " 12  IDADE        667842 non-null  int64 \n",
      " 13  AREA         667842 non-null  object\n",
      "dtypes: int64(2), object(12)\n",
      "memory usage: 71.3+ MB\n"
     ]
    }
   ],
   "source": [
    "prouni.info()"
   ]
  },
  {
   "cell_type": "code",
   "execution_count": 274,
   "metadata": {},
   "outputs": [],
   "source": [
    "prouni['FAIXA ETÁRIA'] = prouni['IDADE'].apply(atribuir_faixa_etaria)"
   ]
  },
  {
   "cell_type": "code",
   "execution_count": 275,
   "metadata": {},
   "outputs": [
    {
     "data": {
      "text/plain": [
       "array(['31 ~ 40 anos', '41 ~ 50 anos', '51 ~ 80 anos', 'Desconhecido',\n",
       "       '21 ~ 30anos', '0 ~ 20 anos', '+81 anos'], dtype=object)"
      ]
     },
     "execution_count": 275,
     "metadata": {},
     "output_type": "execute_result"
    }
   ],
   "source": [
    "prouni['FAIXA ETÁRIA'].unique()"
   ]
  },
  {
   "cell_type": "code",
   "execution_count": 276,
   "metadata": {},
   "outputs": [
    {
     "data": {
      "text/html": [
       "<div>\n",
       "<style scoped>\n",
       "    .dataframe tbody tr th:only-of-type {\n",
       "        vertical-align: middle;\n",
       "    }\n",
       "\n",
       "    .dataframe tbody tr th {\n",
       "        vertical-align: top;\n",
       "    }\n",
       "\n",
       "    .dataframe thead th {\n",
       "        text-align: right;\n",
       "    }\n",
       "</style>\n",
       "<table border=\"1\" class=\"dataframe\">\n",
       "  <thead>\n",
       "    <tr style=\"text-align: right;\">\n",
       "      <th></th>\n",
       "      <th>ANO</th>\n",
       "      <th>INSTITUIÇÃO</th>\n",
       "      <th>TIPO</th>\n",
       "      <th>MODALIDADE</th>\n",
       "      <th>CURSO</th>\n",
       "      <th>TURNO</th>\n",
       "      <th>GÊNERO</th>\n",
       "      <th>ETNIA</th>\n",
       "      <th>PCD</th>\n",
       "      <th>REGIÃO</th>\n",
       "      <th>UF</th>\n",
       "      <th>MUNICIPIO</th>\n",
       "      <th>IDADE</th>\n",
       "      <th>AREA</th>\n",
       "      <th>FAIXA ETÁRIA</th>\n",
       "    </tr>\n",
       "  </thead>\n",
       "  <tbody>\n",
       "    <tr>\n",
       "      <th>0</th>\n",
       "      <td>2005</td>\n",
       "      <td>UNIVERSIDADE REGIONAL INTEGRADA DO ALTO URUGUA...</td>\n",
       "      <td>PARCIAL</td>\n",
       "      <td>PRESENCIAL</td>\n",
       "      <td>ENFERMAGEM</td>\n",
       "      <td>INTEGRAL</td>\n",
       "      <td>MULHER</td>\n",
       "      <td>BRANCA</td>\n",
       "      <td>N</td>\n",
       "      <td>SUL</td>\n",
       "      <td>RS</td>\n",
       "      <td>SANTO ANGELO</td>\n",
       "      <td>34</td>\n",
       "      <td>SAÚDE</td>\n",
       "      <td>31 ~ 40 anos</td>\n",
       "    </tr>\n",
       "    <tr>\n",
       "      <th>1</th>\n",
       "      <td>2005</td>\n",
       "      <td>UNIVERSIDADE REGIONAL INTEGRADA DO ALTO URUGUA...</td>\n",
       "      <td>PARCIAL</td>\n",
       "      <td>PRESENCIAL</td>\n",
       "      <td>SERVICO SOCIAL</td>\n",
       "      <td>NOTURNO</td>\n",
       "      <td>MULHER</td>\n",
       "      <td>PARDA</td>\n",
       "      <td>N</td>\n",
       "      <td>SUL</td>\n",
       "      <td>RS</td>\n",
       "      <td>FREDERICO WESTPHALEN</td>\n",
       "      <td>35</td>\n",
       "      <td>CIÊNCIAS SOCIAIS APLICADAS</td>\n",
       "      <td>31 ~ 40 anos</td>\n",
       "    </tr>\n",
       "    <tr>\n",
       "      <th>2</th>\n",
       "      <td>2005</td>\n",
       "      <td>UNIVERSIDADE REGIONAL INTEGRADA DO ALTO URUGUA...</td>\n",
       "      <td>PARCIAL</td>\n",
       "      <td>PRESENCIAL</td>\n",
       "      <td>SERVICO SOCIAL</td>\n",
       "      <td>NOTURNO</td>\n",
       "      <td>MULHER</td>\n",
       "      <td>PARDA</td>\n",
       "      <td>N</td>\n",
       "      <td>SUL</td>\n",
       "      <td>RS</td>\n",
       "      <td>FREDERICO WESTPHALEN</td>\n",
       "      <td>37</td>\n",
       "      <td>CIÊNCIAS SOCIAIS APLICADAS</td>\n",
       "      <td>31 ~ 40 anos</td>\n",
       "    </tr>\n",
       "    <tr>\n",
       "      <th>3</th>\n",
       "      <td>2005</td>\n",
       "      <td>UNIVERSIDADE REGIONAL INTEGRADA DO ALTO URUGUA...</td>\n",
       "      <td>PARCIAL</td>\n",
       "      <td>PRESENCIAL</td>\n",
       "      <td>CIENCIA DA COMPUTACAO</td>\n",
       "      <td>NOTURNO</td>\n",
       "      <td>HOMEM</td>\n",
       "      <td>BRANCA</td>\n",
       "      <td>N</td>\n",
       "      <td>SUL</td>\n",
       "      <td>RS</td>\n",
       "      <td>FREDERICO WESTPHALEN</td>\n",
       "      <td>33</td>\n",
       "      <td>CIÊNCIAS DA COMPUTAÇÃO</td>\n",
       "      <td>31 ~ 40 anos</td>\n",
       "    </tr>\n",
       "    <tr>\n",
       "      <th>4</th>\n",
       "      <td>2005</td>\n",
       "      <td>UNIVERSIDADE REGIONAL INTEGRADA DO ALTO URUGUA...</td>\n",
       "      <td>PARCIAL</td>\n",
       "      <td>PRESENCIAL</td>\n",
       "      <td>CIENCIA DA COMPUTACAO</td>\n",
       "      <td>NOTURNO</td>\n",
       "      <td>HOMEM</td>\n",
       "      <td>AMARELA</td>\n",
       "      <td>N</td>\n",
       "      <td>SUL</td>\n",
       "      <td>RS</td>\n",
       "      <td>FREDERICO WESTPHALEN</td>\n",
       "      <td>34</td>\n",
       "      <td>CIÊNCIAS DA COMPUTAÇÃO</td>\n",
       "      <td>31 ~ 40 anos</td>\n",
       "    </tr>\n",
       "    <tr>\n",
       "      <th>...</th>\n",
       "      <td>...</td>\n",
       "      <td>...</td>\n",
       "      <td>...</td>\n",
       "      <td>...</td>\n",
       "      <td>...</td>\n",
       "      <td>...</td>\n",
       "      <td>...</td>\n",
       "      <td>...</td>\n",
       "      <td>...</td>\n",
       "      <td>...</td>\n",
       "      <td>...</td>\n",
       "      <td>...</td>\n",
       "      <td>...</td>\n",
       "      <td>...</td>\n",
       "      <td>...</td>\n",
       "    </tr>\n",
       "    <tr>\n",
       "      <th>667837</th>\n",
       "      <td>2020</td>\n",
       "      <td>CENTRO UNIVERSITÁRIO INTERNACIONAL</td>\n",
       "      <td>PARCIAL</td>\n",
       "      <td>EAD</td>\n",
       "      <td>ADMINISTRACAO</td>\n",
       "      <td>A DISTANCIA</td>\n",
       "      <td>MULHER</td>\n",
       "      <td>PARDA</td>\n",
       "      <td>N</td>\n",
       "      <td>SUDESTE</td>\n",
       "      <td>RJ</td>\n",
       "      <td>CABO FRIO</td>\n",
       "      <td>24</td>\n",
       "      <td>NEGÓCIOS</td>\n",
       "      <td>21 ~ 30anos</td>\n",
       "    </tr>\n",
       "    <tr>\n",
       "      <th>667838</th>\n",
       "      <td>2020</td>\n",
       "      <td>CENTRO UNIVERSITÁRIO INTERNACIONAL</td>\n",
       "      <td>PARCIAL</td>\n",
       "      <td>EAD</td>\n",
       "      <td>RELACOES INTERNACIONAIS</td>\n",
       "      <td>A DISTANCIA</td>\n",
       "      <td>MULHER</td>\n",
       "      <td>PARDA</td>\n",
       "      <td>N</td>\n",
       "      <td>SUDESTE</td>\n",
       "      <td>RJ</td>\n",
       "      <td>CABO FRIO</td>\n",
       "      <td>18</td>\n",
       "      <td>CIÊNCIAS SOCIAIS E HUMANAS</td>\n",
       "      <td>0 ~ 20 anos</td>\n",
       "    </tr>\n",
       "    <tr>\n",
       "      <th>667839</th>\n",
       "      <td>2020</td>\n",
       "      <td>CENTRO UNIVERSITÁRIO INTERNACIONAL</td>\n",
       "      <td>PARCIAL</td>\n",
       "      <td>EAD</td>\n",
       "      <td>ADMINISTRACAO</td>\n",
       "      <td>A DISTANCIA</td>\n",
       "      <td>HOMEM</td>\n",
       "      <td>BRANCA</td>\n",
       "      <td>N</td>\n",
       "      <td>SUL</td>\n",
       "      <td>RS</td>\n",
       "      <td>CANOAS</td>\n",
       "      <td>23</td>\n",
       "      <td>NEGÓCIOS</td>\n",
       "      <td>21 ~ 30anos</td>\n",
       "    </tr>\n",
       "    <tr>\n",
       "      <th>667840</th>\n",
       "      <td>2020</td>\n",
       "      <td>CENTRO UNIVERSITÁRIO INTERNACIONAL</td>\n",
       "      <td>PARCIAL</td>\n",
       "      <td>EAD</td>\n",
       "      <td>RELACOES INTERNACIONAIS</td>\n",
       "      <td>A DISTANCIA</td>\n",
       "      <td>MULHER</td>\n",
       "      <td>PARDA</td>\n",
       "      <td>N</td>\n",
       "      <td>NORTE</td>\n",
       "      <td>PA</td>\n",
       "      <td>ANANINDEUA</td>\n",
       "      <td>45</td>\n",
       "      <td>CIÊNCIAS SOCIAIS E HUMANAS</td>\n",
       "      <td>41 ~ 50 anos</td>\n",
       "    </tr>\n",
       "    <tr>\n",
       "      <th>667841</th>\n",
       "      <td>2020</td>\n",
       "      <td>CENTRO UNIVERSITÁRIO INTERNACIONAL</td>\n",
       "      <td>PARCIAL</td>\n",
       "      <td>EAD</td>\n",
       "      <td>MUSICA</td>\n",
       "      <td>A DISTANCIA</td>\n",
       "      <td>HOMEM</td>\n",
       "      <td>BRANCA</td>\n",
       "      <td>N</td>\n",
       "      <td>SUL</td>\n",
       "      <td>RS</td>\n",
       "      <td>LAJEADO</td>\n",
       "      <td>24</td>\n",
       "      <td>ARTES E HUMANIDADES</td>\n",
       "      <td>21 ~ 30anos</td>\n",
       "    </tr>\n",
       "  </tbody>\n",
       "</table>\n",
       "<p>667842 rows × 15 columns</p>\n",
       "</div>"
      ],
      "text/plain": [
       "         ANO                                        INSTITUIÇÃO     TIPO  \\\n",
       "0       2005  UNIVERSIDADE REGIONAL INTEGRADA DO ALTO URUGUA...  PARCIAL   \n",
       "1       2005  UNIVERSIDADE REGIONAL INTEGRADA DO ALTO URUGUA...  PARCIAL   \n",
       "2       2005  UNIVERSIDADE REGIONAL INTEGRADA DO ALTO URUGUA...  PARCIAL   \n",
       "3       2005  UNIVERSIDADE REGIONAL INTEGRADA DO ALTO URUGUA...  PARCIAL   \n",
       "4       2005  UNIVERSIDADE REGIONAL INTEGRADA DO ALTO URUGUA...  PARCIAL   \n",
       "...      ...                                                ...      ...   \n",
       "667837  2020                 CENTRO UNIVERSITÁRIO INTERNACIONAL  PARCIAL   \n",
       "667838  2020                 CENTRO UNIVERSITÁRIO INTERNACIONAL  PARCIAL   \n",
       "667839  2020                 CENTRO UNIVERSITÁRIO INTERNACIONAL  PARCIAL   \n",
       "667840  2020                 CENTRO UNIVERSITÁRIO INTERNACIONAL  PARCIAL   \n",
       "667841  2020                 CENTRO UNIVERSITÁRIO INTERNACIONAL  PARCIAL   \n",
       "\n",
       "        MODALIDADE                    CURSO        TURNO  GÊNERO    ETNIA PCD  \\\n",
       "0       PRESENCIAL               ENFERMAGEM     INTEGRAL  MULHER   BRANCA   N   \n",
       "1       PRESENCIAL           SERVICO SOCIAL      NOTURNO  MULHER    PARDA   N   \n",
       "2       PRESENCIAL           SERVICO SOCIAL      NOTURNO  MULHER    PARDA   N   \n",
       "3       PRESENCIAL    CIENCIA DA COMPUTACAO      NOTURNO   HOMEM   BRANCA   N   \n",
       "4       PRESENCIAL    CIENCIA DA COMPUTACAO      NOTURNO   HOMEM  AMARELA   N   \n",
       "...            ...                      ...          ...     ...      ...  ..   \n",
       "667837         EAD            ADMINISTRACAO  A DISTANCIA  MULHER    PARDA   N   \n",
       "667838         EAD  RELACOES INTERNACIONAIS  A DISTANCIA  MULHER    PARDA   N   \n",
       "667839         EAD            ADMINISTRACAO  A DISTANCIA   HOMEM   BRANCA   N   \n",
       "667840         EAD  RELACOES INTERNACIONAIS  A DISTANCIA  MULHER    PARDA   N   \n",
       "667841         EAD                   MUSICA  A DISTANCIA   HOMEM   BRANCA   N   \n",
       "\n",
       "         REGIÃO  UF             MUNICIPIO  IDADE                        AREA  \\\n",
       "0           SUL  RS          SANTO ANGELO     34                       SAÚDE   \n",
       "1           SUL  RS  FREDERICO WESTPHALEN     35  CIÊNCIAS SOCIAIS APLICADAS   \n",
       "2           SUL  RS  FREDERICO WESTPHALEN     37  CIÊNCIAS SOCIAIS APLICADAS   \n",
       "3           SUL  RS  FREDERICO WESTPHALEN     33      CIÊNCIAS DA COMPUTAÇÃO   \n",
       "4           SUL  RS  FREDERICO WESTPHALEN     34      CIÊNCIAS DA COMPUTAÇÃO   \n",
       "...         ...  ..                   ...    ...                         ...   \n",
       "667837  SUDESTE  RJ             CABO FRIO     24                    NEGÓCIOS   \n",
       "667838  SUDESTE  RJ             CABO FRIO     18  CIÊNCIAS SOCIAIS E HUMANAS   \n",
       "667839      SUL  RS                CANOAS     23                    NEGÓCIOS   \n",
       "667840    NORTE  PA            ANANINDEUA     45  CIÊNCIAS SOCIAIS E HUMANAS   \n",
       "667841      SUL  RS               LAJEADO     24         ARTES E HUMANIDADES   \n",
       "\n",
       "        FAIXA ETÁRIA  \n",
       "0       31 ~ 40 anos  \n",
       "1       31 ~ 40 anos  \n",
       "2       31 ~ 40 anos  \n",
       "3       31 ~ 40 anos  \n",
       "4       31 ~ 40 anos  \n",
       "...              ...  \n",
       "667837   21 ~ 30anos  \n",
       "667838   0 ~ 20 anos  \n",
       "667839   21 ~ 30anos  \n",
       "667840  41 ~ 50 anos  \n",
       "667841   21 ~ 30anos  \n",
       "\n",
       "[667842 rows x 15 columns]"
      ]
     },
     "execution_count": 276,
     "metadata": {},
     "output_type": "execute_result"
    }
   ],
   "source": [
    "prouni"
   ]
  },
  {
   "cell_type": "code",
   "execution_count": 277,
   "metadata": {},
   "outputs": [],
   "source": [
    "prouni.to_csv ('Prouni_final.csv', index = None, header=True)"
   ]
  }
 ],
 "metadata": {
  "kernelspec": {
   "display_name": "base",
   "language": "python",
   "name": "python3"
  },
  "language_info": {
   "codemirror_mode": {
    "name": "ipython",
    "version": 3
   },
   "file_extension": ".py",
   "mimetype": "text/x-python",
   "name": "python",
   "nbconvert_exporter": "python",
   "pygments_lexer": "ipython3",
   "version": "3.10.9"
  },
  "orig_nbformat": 4
 },
 "nbformat": 4,
 "nbformat_minor": 2
}
